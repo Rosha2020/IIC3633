{
  "nbformat": 4,
  "nbformat_minor": 0,
  "metadata": {
    "colab": {
      "name": "Copy of GRU4Rec c/DT.ipynb",
      "provenance": [],
      "collapsed_sections": [],
      "include_colab_link": true
    },
    "kernelspec": {
      "name": "python3",
      "display_name": "Python 3"
    },
    "accelerator": "GPU"
  },
  "cells": [
    {
      "cell_type": "markdown",
      "metadata": {
        "id": "view-in-github",
        "colab_type": "text"
      },
      "source": [
        "<a href=\"https://colab.research.google.com/github/Rosha2020/IIC3633/blob/master/Copy_of_GRU4Rec_c_DT.ipynb\" target=\"_parent\"><img src=\"https://colab.research.google.com/assets/colab-badge.svg\" alt=\"Open In Colab\"/></a>"
      ]
    },
    {
      "cell_type": "markdown",
      "metadata": {
        "id": "bcrDor7CR1SO"
      },
      "source": [
        "# Gated Recurrent Units for session-based next item prediction\n",
        "\n",
        "Patricio Cerda, Bastián Mavrakis, Denis Parra\n",
        "\n",
        "### Ambiente: Python3 + GPU\n",
        "\n",
        "## Descargar datos y repositorio"
      ]
    },
    {
      "cell_type": "code",
      "metadata": {
        "id": "nCAQDIrOPUQP",
        "colab": {
          "base_uri": "https://localhost:8080/"
        },
        "outputId": "1e629de1-307f-4c49-849f-43ba4e15ed59"
      },
      "source": [
        "# Clone repo\n",
        "!git clone https://github.com/pcerdam/KerasGRU4Rec --single-branch src"
      ],
      "execution_count": 2,
      "outputs": [
        {
          "output_type": "stream",
          "text": [
            "Cloning into 'src'...\n",
            "remote: Enumerating objects: 46, done.\u001b[K\n",
            "remote: Counting objects: 100% (46/46), done.\u001b[K\n",
            "remote: Compressing objects: 100% (30/30), done.\u001b[K\n",
            "remote: Total 207 (delta 15), reused 32 (delta 12), pack-reused 161\u001b[K\n",
            "Receiving objects: 100% (207/207), 10.58 MiB | 6.42 MiB/s, done.\n",
            "Resolving deltas: 100% (87/87), done.\n"
          ],
          "name": "stdout"
        }
      ]
    },
    {
      "cell_type": "code",
      "metadata": {
        "id": "BpccDqjDPbjI",
        "colab": {
          "base_uri": "https://localhost:8080/"
        },
        "outputId": "4d4cdd98-040e-4d70-bff9-f610e9682d57"
      },
      "source": [
        "# Download RecSys Challenge 2015 dataset\n",
        "!rm -r sample_data\n",
        "!curl https://s3-eu-west-1.amazonaws.com/yc-rdata/yoochoose-data.7z --output data.7z"
      ],
      "execution_count": 3,
      "outputs": [
        {
          "output_type": "stream",
          "text": [
            "  % Total    % Received % Xferd  Average Speed   Time    Time     Time  Current\n",
            "                                 Dload  Upload   Total   Spent    Left  Speed\n",
            "100  273M  100  273M    0     0  10.4M      0  0:00:26  0:00:26 --:--:-- 12.1M\n"
          ],
          "name": "stdout"
        }
      ]
    },
    {
      "cell_type": "code",
      "metadata": {
        "id": "AJkLaRyqPp-z",
        "colab": {
          "base_uri": "https://localhost:8080/"
        },
        "outputId": "243d1587-2285-4cdb-8f06-3d464197fc8b"
      },
      "source": [
        "# Extract dataset\n",
        "!7z e data.7z -o./rsc15\n",
        "!rm data.7z\n",
        "!mkdir data"
      ],
      "execution_count": 4,
      "outputs": [
        {
          "output_type": "stream",
          "text": [
            "\n",
            "7-Zip [64] 16.02 : Copyright (c) 1999-2016 Igor Pavlov : 2016-05-21\n",
            "p7zip Version 16.02 (locale=en_US.UTF-8,Utf16=on,HugeFiles=on,64 bits,2 CPUs Intel(R) Xeon(R) CPU @ 2.00GHz (50653),ASM,AES-NI)\n",
            "\n",
            "Scanning the drive for archives:\n",
            "  0M Scan\b\b\b\b\b\b\b\b\b         \b\b\b\b\b\b\b\b\b1 file, 287211932 bytes (274 MiB)\n",
            "\n",
            "Extracting archive: data.7z\n",
            "--\n",
            "Path = data.7z\n",
            "Type = 7z\n",
            "Physical Size = 287211932\n",
            "Headers Size = 255\n",
            "Method = LZMA:24\n",
            "Solid = +\n",
            "Blocks = 2\n",
            "\n",
            "  0%\b\b\b\b    \b\b\b\b  0% - yoochoose-buys.dat\b\b\b\b\b\b\b\b\b\b\b\b\b\b\b\b\b\b\b\b\b\b\b\b\b                         \b\b\b\b\b\b\b\b\b\b\b\b\b\b\b\b\b\b\b\b\b\b\b\b\b  1% - yoochoose-buys.dat\b\b\b\b\b\b\b\b\b\b\b\b\b\b\b\b\b\b\b\b\b\b\b\b\b                         \b\b\b\b\b\b\b\b\b\b\b\b\b\b\b\b\b\b\b\b\b\b\b\b\b  2% - yoochoose-buys.dat\b\b\b\b\b\b\b\b\b\b\b\b\b\b\b\b\b\b\b\b\b\b\b\b\b                         \b\b\b\b\b\b\b\b\b\b\b\b\b\b\b\b\b\b\b\b\b\b\b\b\b  3% 1 - yoochoose-clicks.dat\b\b\b\b\b\b\b\b\b\b\b\b\b\b\b\b\b\b\b\b\b\b\b\b\b\b\b\b\b                             \b\b\b\b\b\b\b\b\b\b\b\b\b\b\b\b\b\b\b\b\b\b\b\b\b\b\b\b\b  4% 1 - yoochoose-clicks.dat\b\b\b\b\b\b\b\b\b\b\b\b\b\b\b\b\b\b\b\b\b\b\b\b\b\b\b\b\b                             \b\b\b\b\b\b\b\b\b\b\b\b\b\b\b\b\b\b\b\b\b\b\b\b\b\b\b\b\b  5% 1 - yoochoose-clicks.dat\b\b\b\b\b\b\b\b\b\b\b\b\b\b\b\b\b\b\b\b\b\b\b\b\b\b\b\b\b                             \b\b\b\b\b\b\b\b\b\b\b\b\b\b\b\b\b\b\b\b\b\b\b\b\b\b\b\b\b  6% 1 - yoochoose-clicks.dat\b\b\b\b\b\b\b\b\b\b\b\b\b\b\b\b\b\b\b\b\b\b\b\b\b\b\b\b\b                             \b\b\b\b\b\b\b\b\b\b\b\b\b\b\b\b\b\b\b\b\b\b\b\b\b\b\b\b\b  7% 1 - yoochoose-clicks.dat\b\b\b\b\b\b\b\b\b\b\b\b\b\b\b\b\b\b\b\b\b\b\b\b\b\b\b\b\b                             \b\b\b\b\b\b\b\b\b\b\b\b\b\b\b\b\b\b\b\b\b\b\b\b\b\b\b\b\b  8% 1 - yoochoose-clicks.dat\b\b\b\b\b\b\b\b\b\b\b\b\b\b\b\b\b\b\b\b\b\b\b\b\b\b\b\b\b                             \b\b\b\b\b\b\b\b\b\b\b\b\b\b\b\b\b\b\b\b\b\b\b\b\b\b\b\b\b  9% 1 - yoochoose-clicks.dat\b\b\b\b\b\b\b\b\b\b\b\b\b\b\b\b\b\b\b\b\b\b\b\b\b\b\b\b\b                             \b\b\b\b\b\b\b\b\b\b\b\b\b\b\b\b\b\b\b\b\b\b\b\b\b\b\b\b\b 10% 1 - yoochoose-clicks.dat\b\b\b\b\b\b\b\b\b\b\b\b\b\b\b\b\b\b\b\b\b\b\b\b\b\b\b\b\b                             \b\b\b\b\b\b\b\b\b\b\b\b\b\b\b\b\b\b\b\b\b\b\b\b\b\b\b\b\b 11% 1 - yoochoose-clicks.dat\b\b\b\b\b\b\b\b\b\b\b\b\b\b\b\b\b\b\b\b\b\b\b\b\b\b\b\b\b                             \b\b\b\b\b\b\b\b\b\b\b\b\b\b\b\b\b\b\b\b\b\b\b\b\b\b\b\b\b 12% 1 - yoochoose-clicks.dat\b\b\b\b\b\b\b\b\b\b\b\b\b\b\b\b\b\b\b\b\b\b\b\b\b\b\b\b\b                             \b\b\b\b\b\b\b\b\b\b\b\b\b\b\b\b\b\b\b\b\b\b\b\b\b\b\b\b\b 13% 1 - yoochoose-clicks.dat\b\b\b\b\b\b\b\b\b\b\b\b\b\b\b\b\b\b\b\b\b\b\b\b\b\b\b\b\b                             \b\b\b\b\b\b\b\b\b\b\b\b\b\b\b\b\b\b\b\b\b\b\b\b\b\b\b\b\b 14% 1 - yoochoose-clicks.dat\b\b\b\b\b\b\b\b\b\b\b\b\b\b\b\b\b\b\b\b\b\b\b\b\b\b\b\b\b                             \b\b\b\b\b\b\b\b\b\b\b\b\b\b\b\b\b\b\b\b\b\b\b\b\b\b\b\b\b 15% 1 - yoochoose-clicks.dat\b\b\b\b\b\b\b\b\b\b\b\b\b\b\b\b\b\b\b\b\b\b\b\b\b\b\b\b\b                             \b\b\b\b\b\b\b\b\b\b\b\b\b\b\b\b\b\b\b\b\b\b\b\b\b\b\b\b\b 16% 1 - yoochoose-clicks.dat\b\b\b\b\b\b\b\b\b\b\b\b\b\b\b\b\b\b\b\b\b\b\b\b\b\b\b\b\b                             \b\b\b\b\b\b\b\b\b\b\b\b\b\b\b\b\b\b\b\b\b\b\b\b\b\b\b\b\b 17% 1 - yoochoose-clicks.dat\b\b\b\b\b\b\b\b\b\b\b\b\b\b\b\b\b\b\b\b\b\b\b\b\b\b\b\b\b                             \b\b\b\b\b\b\b\b\b\b\b\b\b\b\b\b\b\b\b\b\b\b\b\b\b\b\b\b\b 18% 1 - yoochoose-clicks.dat\b\b\b\b\b\b\b\b\b\b\b\b\b\b\b\b\b\b\b\b\b\b\b\b\b\b\b\b\b                             \b\b\b\b\b\b\b\b\b\b\b\b\b\b\b\b\b\b\b\b\b\b\b\b\b\b\b\b\b 19% 1 - yoochoose-clicks.dat\b\b\b\b\b\b\b\b\b\b\b\b\b\b\b\b\b\b\b\b\b\b\b\b\b\b\b\b\b                             \b\b\b\b\b\b\b\b\b\b\b\b\b\b\b\b\b\b\b\b\b\b\b\b\b\b\b\b\b 20% 1 - yoochoose-clicks.dat\b\b\b\b\b\b\b\b\b\b\b\b\b\b\b\b\b\b\b\b\b\b\b\b\b\b\b\b\b                             \b\b\b\b\b\b\b\b\b\b\b\b\b\b\b\b\b\b\b\b\b\b\b\b\b\b\b\b\b 21% 1 - yoochoose-clicks.dat\b\b\b\b\b\b\b\b\b\b\b\b\b\b\b\b\b\b\b\b\b\b\b\b\b\b\b\b\b                             \b\b\b\b\b\b\b\b\b\b\b\b\b\b\b\b\b\b\b\b\b\b\b\b\b\b\b\b\b 22% 1 - yoochoose-clicks.dat\b\b\b\b\b\b\b\b\b\b\b\b\b\b\b\b\b\b\b\b\b\b\b\b\b\b\b\b\b                             \b\b\b\b\b\b\b\b\b\b\b\b\b\b\b\b\b\b\b\b\b\b\b\b\b\b\b\b\b 23% 1 - yoochoose-clicks.dat\b\b\b\b\b\b\b\b\b\b\b\b\b\b\b\b\b\b\b\b\b\b\b\b\b\b\b\b\b                             \b\b\b\b\b\b\b\b\b\b\b\b\b\b\b\b\b\b\b\b\b\b\b\b\b\b\b\b\b 24% 1 - yoochoose-clicks.dat\b\b\b\b\b\b\b\b\b\b\b\b\b\b\b\b\b\b\b\b\b\b\b\b\b\b\b\b\b                             \b\b\b\b\b\b\b\b\b\b\b\b\b\b\b\b\b\b\b\b\b\b\b\b\b\b\b\b\b 25% 1 - yoochoose-clicks.dat\b\b\b\b\b\b\b\b\b\b\b\b\b\b\b\b\b\b\b\b\b\b\b\b\b\b\b\b\b                             \b\b\b\b\b\b\b\b\b\b\b\b\b\b\b\b\b\b\b\b\b\b\b\b\b\b\b\b\b 26% 1 - yoochoose-clicks.dat\b\b\b\b\b\b\b\b\b\b\b\b\b\b\b\b\b\b\b\b\b\b\b\b\b\b\b\b\b                             \b\b\b\b\b\b\b\b\b\b\b\b\b\b\b\b\b\b\b\b\b\b\b\b\b\b\b\b\b 27% 1 - yoochoose-clicks.dat\b\b\b\b\b\b\b\b\b\b\b\b\b\b\b\b\b\b\b\b\b\b\b\b\b\b\b\b\b                             \b\b\b\b\b\b\b\b\b\b\b\b\b\b\b\b\b\b\b\b\b\b\b\b\b\b\b\b\b 28% 1 - yoochoose-clicks.dat\b\b\b\b\b\b\b\b\b\b\b\b\b\b\b\b\b\b\b\b\b\b\b\b\b\b\b\b\b                             \b\b\b\b\b\b\b\b\b\b\b\b\b\b\b\b\b\b\b\b\b\b\b\b\b\b\b\b\b 29% 1 - yoochoose-clicks.dat\b\b\b\b\b\b\b\b\b\b\b\b\b\b\b\b\b\b\b\b\b\b\b\b\b\b\b\b\b                             \b\b\b\b\b\b\b\b\b\b\b\b\b\b\b\b\b\b\b\b\b\b\b\b\b\b\b\b\b 30% 1 - yoochoose-clicks.dat\b\b\b\b\b\b\b\b\b\b\b\b\b\b\b\b\b\b\b\b\b\b\b\b\b\b\b\b\b                             \b\b\b\b\b\b\b\b\b\b\b\b\b\b\b\b\b\b\b\b\b\b\b\b\b\b\b\b\b 31% 1 - yoochoose-clicks.dat\b\b\b\b\b\b\b\b\b\b\b\b\b\b\b\b\b\b\b\b\b\b\b\b\b\b\b\b\b                             \b\b\b\b\b\b\b\b\b\b\b\b\b\b\b\b\b\b\b\b\b\b\b\b\b\b\b\b\b 32% 1 - yoochoose-clicks.dat\b\b\b\b\b\b\b\b\b\b\b\b\b\b\b\b\b\b\b\b\b\b\b\b\b\b\b\b\b                             \b\b\b\b\b\b\b\b\b\b\b\b\b\b\b\b\b\b\b\b\b\b\b\b\b\b\b\b\b 33% 1 - yoochoose-clicks.dat\b\b\b\b\b\b\b\b\b\b\b\b\b\b\b\b\b\b\b\b\b\b\b\b\b\b\b\b\b                             \b\b\b\b\b\b\b\b\b\b\b\b\b\b\b\b\b\b\b\b\b\b\b\b\b\b\b\b\b 34% 1 - yoochoose-clicks.dat\b\b\b\b\b\b\b\b\b\b\b\b\b\b\b\b\b\b\b\b\b\b\b\b\b\b\b\b\b                             \b\b\b\b\b\b\b\b\b\b\b\b\b\b\b\b\b\b\b\b\b\b\b\b\b\b\b\b\b 35% 1 - yoochoose-clicks.dat\b\b\b\b\b\b\b\b\b\b\b\b\b\b\b\b\b\b\b\b\b\b\b\b\b\b\b\b\b                             \b\b\b\b\b\b\b\b\b\b\b\b\b\b\b\b\b\b\b\b\b\b\b\b\b\b\b\b\b 36% 1 - yoochoose-clicks.dat\b\b\b\b\b\b\b\b\b\b\b\b\b\b\b\b\b\b\b\b\b\b\b\b\b\b\b\b\b                             \b\b\b\b\b\b\b\b\b\b\b\b\b\b\b\b\b\b\b\b\b\b\b\b\b\b\b\b\b 37% 1 - yoochoose-clicks.dat\b\b\b\b\b\b\b\b\b\b\b\b\b\b\b\b\b\b\b\b\b\b\b\b\b\b\b\b\b                             \b\b\b\b\b\b\b\b\b\b\b\b\b\b\b\b\b\b\b\b\b\b\b\b\b\b\b\b\b 38% 1 - yoochoose-clicks.dat\b\b\b\b\b\b\b\b\b\b\b\b\b\b\b\b\b\b\b\b\b\b\b\b\b\b\b\b\b                             \b\b\b\b\b\b\b\b\b\b\b\b\b\b\b\b\b\b\b\b\b\b\b\b\b\b\b\b\b 39% 1 - yoochoose-clicks.dat\b\b\b\b\b\b\b\b\b\b\b\b\b\b\b\b\b\b\b\b\b\b\b\b\b\b\b\b\b                             \b\b\b\b\b\b\b\b\b\b\b\b\b\b\b\b\b\b\b\b\b\b\b\b\b\b\b\b\b 40% 1 - yoochoose-clicks.dat\b\b\b\b\b\b\b\b\b\b\b\b\b\b\b\b\b\b\b\b\b\b\b\b\b\b\b\b\b                             \b\b\b\b\b\b\b\b\b\b\b\b\b\b\b\b\b\b\b\b\b\b\b\b\b\b\b\b\b 41% 1 - yoochoose-clicks.dat\b\b\b\b\b\b\b\b\b\b\b\b\b\b\b\b\b\b\b\b\b\b\b\b\b\b\b\b\b                             \b\b\b\b\b\b\b\b\b\b\b\b\b\b\b\b\b\b\b\b\b\b\b\b\b\b\b\b\b 42% 1 - yoochoose-clicks.dat\b\b\b\b\b\b\b\b\b\b\b\b\b\b\b\b\b\b\b\b\b\b\b\b\b\b\b\b\b                             \b\b\b\b\b\b\b\b\b\b\b\b\b\b\b\b\b\b\b\b\b\b\b\b\b\b\b\b\b 43% 1 - yoochoose-clicks.dat\b\b\b\b\b\b\b\b\b\b\b\b\b\b\b\b\b\b\b\b\b\b\b\b\b\b\b\b\b                             \b\b\b\b\b\b\b\b\b\b\b\b\b\b\b\b\b\b\b\b\b\b\b\b\b\b\b\b\b 44% 1 - yoochoose-clicks.dat\b\b\b\b\b\b\b\b\b\b\b\b\b\b\b\b\b\b\b\b\b\b\b\b\b\b\b\b\b                             \b\b\b\b\b\b\b\b\b\b\b\b\b\b\b\b\b\b\b\b\b\b\b\b\b\b\b\b\b 45% 1 - yoochoose-clicks.dat\b\b\b\b\b\b\b\b\b\b\b\b\b\b\b\b\b\b\b\b\b\b\b\b\b\b\b\b\b                             \b\b\b\b\b\b\b\b\b\b\b\b\b\b\b\b\b\b\b\b\b\b\b\b\b\b\b\b\b 46% 1 - yoochoose-clicks.dat\b\b\b\b\b\b\b\b\b\b\b\b\b\b\b\b\b\b\b\b\b\b\b\b\b\b\b\b\b                             \b\b\b\b\b\b\b\b\b\b\b\b\b\b\b\b\b\b\b\b\b\b\b\b\b\b\b\b\b 47% 1 - yoochoose-clicks.dat\b\b\b\b\b\b\b\b\b\b\b\b\b\b\b\b\b\b\b\b\b\b\b\b\b\b\b\b\b                             \b\b\b\b\b\b\b\b\b\b\b\b\b\b\b\b\b\b\b\b\b\b\b\b\b\b\b\b\b 48% 1 - yoochoose-clicks.dat\b\b\b\b\b\b\b\b\b\b\b\b\b\b\b\b\b\b\b\b\b\b\b\b\b\b\b\b\b                             \b\b\b\b\b\b\b\b\b\b\b\b\b\b\b\b\b\b\b\b\b\b\b\b\b\b\b\b\b 49% 1 - yoochoose-clicks.dat\b\b\b\b\b\b\b\b\b\b\b\b\b\b\b\b\b\b\b\b\b\b\b\b\b\b\b\b\b                             \b\b\b\b\b\b\b\b\b\b\b\b\b\b\b\b\b\b\b\b\b\b\b\b\b\b\b\b\b 50% 1 - yoochoose-clicks.dat\b\b\b\b\b\b\b\b\b\b\b\b\b\b\b\b\b\b\b\b\b\b\b\b\b\b\b\b\b                             \b\b\b\b\b\b\b\b\b\b\b\b\b\b\b\b\b\b\b\b\b\b\b\b\b\b\b\b\b 51% 1 - yoochoose-clicks.dat\b\b\b\b\b\b\b\b\b\b\b\b\b\b\b\b\b\b\b\b\b\b\b\b\b\b\b\b\b                             \b\b\b\b\b\b\b\b\b\b\b\b\b\b\b\b\b\b\b\b\b\b\b\b\b\b\b\b\b 52% 1 - yoochoose-clicks.dat\b\b\b\b\b\b\b\b\b\b\b\b\b\b\b\b\b\b\b\b\b\b\b\b\b\b\b\b\b                             \b\b\b\b\b\b\b\b\b\b\b\b\b\b\b\b\b\b\b\b\b\b\b\b\b\b\b\b\b 53% 1 - yoochoose-clicks.dat\b\b\b\b\b\b\b\b\b\b\b\b\b\b\b\b\b\b\b\b\b\b\b\b\b\b\b\b\b                             \b\b\b\b\b\b\b\b\b\b\b\b\b\b\b\b\b\b\b\b\b\b\b\b\b\b\b\b\b 54% 1 - yoochoose-clicks.dat\b\b\b\b\b\b\b\b\b\b\b\b\b\b\b\b\b\b\b\b\b\b\b\b\b\b\b\b\b                             \b\b\b\b\b\b\b\b\b\b\b\b\b\b\b\b\b\b\b\b\b\b\b\b\b\b\b\b\b 55% 1 - yoochoose-clicks.dat\b\b\b\b\b\b\b\b\b\b\b\b\b\b\b\b\b\b\b\b\b\b\b\b\b\b\b\b\b                             \b\b\b\b\b\b\b\b\b\b\b\b\b\b\b\b\b\b\b\b\b\b\b\b\b\b\b\b\b 56% 1 - yoochoose-clicks.dat\b\b\b\b\b\b\b\b\b\b\b\b\b\b\b\b\b\b\b\b\b\b\b\b\b\b\b\b\b                             \b\b\b\b\b\b\b\b\b\b\b\b\b\b\b\b\b\b\b\b\b\b\b\b\b\b\b\b\b 57% 1 - yoochoose-clicks.dat\b\b\b\b\b\b\b\b\b\b\b\b\b\b\b\b\b\b\b\b\b\b\b\b\b\b\b\b\b                             \b\b\b\b\b\b\b\b\b\b\b\b\b\b\b\b\b\b\b\b\b\b\b\b\b\b\b\b\b 58% 1 - yoochoose-clicks.dat\b\b\b\b\b\b\b\b\b\b\b\b\b\b\b\b\b\b\b\b\b\b\b\b\b\b\b\b\b                             \b\b\b\b\b\b\b\b\b\b\b\b\b\b\b\b\b\b\b\b\b\b\b\b\b\b\b\b\b 59% 1 - yoochoose-clicks.dat\b\b\b\b\b\b\b\b\b\b\b\b\b\b\b\b\b\b\b\b\b\b\b\b\b\b\b\b\b                             \b\b\b\b\b\b\b\b\b\b\b\b\b\b\b\b\b\b\b\b\b\b\b\b\b\b\b\b\b 60% 1 - yoochoose-clicks.dat\b\b\b\b\b\b\b\b\b\b\b\b\b\b\b\b\b\b\b\b\b\b\b\b\b\b\b\b\b                             \b\b\b\b\b\b\b\b\b\b\b\b\b\b\b\b\b\b\b\b\b\b\b\b\b\b\b\b\b 61% 1 - yoochoose-clicks.dat\b\b\b\b\b\b\b\b\b\b\b\b\b\b\b\b\b\b\b\b\b\b\b\b\b\b\b\b\b                             \b\b\b\b\b\b\b\b\b\b\b\b\b\b\b\b\b\b\b\b\b\b\b\b\b\b\b\b\b 62% 1 - yoochoose-clicks.dat\b\b\b\b\b\b\b\b\b\b\b\b\b\b\b\b\b\b\b\b\b\b\b\b\b\b\b\b\b                             \b\b\b\b\b\b\b\b\b\b\b\b\b\b\b\b\b\b\b\b\b\b\b\b\b\b\b\b\b 63% 1 - yoochoose-clicks.dat\b\b\b\b\b\b\b\b\b\b\b\b\b\b\b\b\b\b\b\b\b\b\b\b\b\b\b\b\b                             \b\b\b\b\b\b\b\b\b\b\b\b\b\b\b\b\b\b\b\b\b\b\b\b\b\b\b\b\b 64% 1 - yoochoose-clicks.dat\b\b\b\b\b\b\b\b\b\b\b\b\b\b\b\b\b\b\b\b\b\b\b\b\b\b\b\b\b                             \b\b\b\b\b\b\b\b\b\b\b\b\b\b\b\b\b\b\b\b\b\b\b\b\b\b\b\b\b 65% 1 - yoochoose-clicks.dat\b\b\b\b\b\b\b\b\b\b\b\b\b\b\b\b\b\b\b\b\b\b\b\b\b\b\b\b\b                             \b\b\b\b\b\b\b\b\b\b\b\b\b\b\b\b\b\b\b\b\b\b\b\b\b\b\b\b\b 66% 1 - yoochoose-clicks.dat\b\b\b\b\b\b\b\b\b\b\b\b\b\b\b\b\b\b\b\b\b\b\b\b\b\b\b\b\b                             \b\b\b\b\b\b\b\b\b\b\b\b\b\b\b\b\b\b\b\b\b\b\b\b\b\b\b\b\b 67% 1 - yoochoose-clicks.dat\b\b\b\b\b\b\b\b\b\b\b\b\b\b\b\b\b\b\b\b\b\b\b\b\b\b\b\b\b                             \b\b\b\b\b\b\b\b\b\b\b\b\b\b\b\b\b\b\b\b\b\b\b\b\b\b\b\b\b 68% 1 - yoochoose-clicks.dat\b\b\b\b\b\b\b\b\b\b\b\b\b\b\b\b\b\b\b\b\b\b\b\b\b\b\b\b\b                             \b\b\b\b\b\b\b\b\b\b\b\b\b\b\b\b\b\b\b\b\b\b\b\b\b\b\b\b\b 69% 1 - yoochoose-clicks.dat\b\b\b\b\b\b\b\b\b\b\b\b\b\b\b\b\b\b\b\b\b\b\b\b\b\b\b\b\b                             \b\b\b\b\b\b\b\b\b\b\b\b\b\b\b\b\b\b\b\b\b\b\b\b\b\b\b\b\b 70% 1 - yoochoose-clicks.dat\b\b\b\b\b\b\b\b\b\b\b\b\b\b\b\b\b\b\b\b\b\b\b\b\b\b\b\b\b                             \b\b\b\b\b\b\b\b\b\b\b\b\b\b\b\b\b\b\b\b\b\b\b\b\b\b\b\b\b 71% 1 - yoochoose-clicks.dat\b\b\b\b\b\b\b\b\b\b\b\b\b\b\b\b\b\b\b\b\b\b\b\b\b\b\b\b\b                             \b\b\b\b\b\b\b\b\b\b\b\b\b\b\b\b\b\b\b\b\b\b\b\b\b\b\b\b\b 72% 1 - yoochoose-clicks.dat\b\b\b\b\b\b\b\b\b\b\b\b\b\b\b\b\b\b\b\b\b\b\b\b\b\b\b\b\b                             \b\b\b\b\b\b\b\b\b\b\b\b\b\b\b\b\b\b\b\b\b\b\b\b\b\b\b\b\b 73% 1 - yoochoose-clicks.dat\b\b\b\b\b\b\b\b\b\b\b\b\b\b\b\b\b\b\b\b\b\b\b\b\b\b\b\b\b                             \b\b\b\b\b\b\b\b\b\b\b\b\b\b\b\b\b\b\b\b\b\b\b\b\b\b\b\b\b 74% 1 - yoochoose-clicks.dat\b\b\b\b\b\b\b\b\b\b\b\b\b\b\b\b\b\b\b\b\b\b\b\b\b\b\b\b\b                             \b\b\b\b\b\b\b\b\b\b\b\b\b\b\b\b\b\b\b\b\b\b\b\b\b\b\b\b\b 75% 1 - yoochoose-clicks.dat\b\b\b\b\b\b\b\b\b\b\b\b\b\b\b\b\b\b\b\b\b\b\b\b\b\b\b\b\b                             \b\b\b\b\b\b\b\b\b\b\b\b\b\b\b\b\b\b\b\b\b\b\b\b\b\b\b\b\b 76% 1 - yoochoose-clicks.dat\b\b\b\b\b\b\b\b\b\b\b\b\b\b\b\b\b\b\b\b\b\b\b\b\b\b\b\b\b                             \b\b\b\b\b\b\b\b\b\b\b\b\b\b\b\b\b\b\b\b\b\b\b\b\b\b\b\b\b 77% 1 - yoochoose-clicks.dat\b\b\b\b\b\b\b\b\b\b\b\b\b\b\b\b\b\b\b\b\b\b\b\b\b\b\b\b\b                             \b\b\b\b\b\b\b\b\b\b\b\b\b\b\b\b\b\b\b\b\b\b\b\b\b\b\b\b\b 78% 1 - yoochoose-clicks.dat\b\b\b\b\b\b\b\b\b\b\b\b\b\b\b\b\b\b\b\b\b\b\b\b\b\b\b\b\b                             \b\b\b\b\b\b\b\b\b\b\b\b\b\b\b\b\b\b\b\b\b\b\b\b\b\b\b\b\b 79% 1 - yoochoose-clicks.dat\b\b\b\b\b\b\b\b\b\b\b\b\b\b\b\b\b\b\b\b\b\b\b\b\b\b\b\b\b                             \b\b\b\b\b\b\b\b\b\b\b\b\b\b\b\b\b\b\b\b\b\b\b\b\b\b\b\b\b 80% 1 - yoochoose-clicks.dat\b\b\b\b\b\b\b\b\b\b\b\b\b\b\b\b\b\b\b\b\b\b\b\b\b\b\b\b\b                             \b\b\b\b\b\b\b\b\b\b\b\b\b\b\b\b\b\b\b\b\b\b\b\b\b\b\b\b\b 81% 2 - yoochoose-test.dat\b\b\b\b\b\b\b\b\b\b\b\b\b\b\b\b\b\b\b\b\b\b\b\b\b\b\b                           \b\b\b\b\b\b\b\b\b\b\b\b\b\b\b\b\b\b\b\b\b\b\b\b\b\b\b 82% 2 - yoochoose-test.dat\b\b\b\b\b\b\b\b\b\b\b\b\b\b\b\b\b\b\b\b\b\b\b\b\b\b\b                           \b\b\b\b\b\b\b\b\b\b\b\b\b\b\b\b\b\b\b\b\b\b\b\b\b\b\b 83% 2 - yoochoose-test.dat\b\b\b\b\b\b\b\b\b\b\b\b\b\b\b\b\b\b\b\b\b\b\b\b\b\b\b                           \b\b\b\b\b\b\b\b\b\b\b\b\b\b\b\b\b\b\b\b\b\b\b\b\b\b\b 84% 2 - yoochoose-test.dat\b\b\b\b\b\b\b\b\b\b\b\b\b\b\b\b\b\b\b\b\b\b\b\b\b\b\b                           \b\b\b\b\b\b\b\b\b\b\b\b\b\b\b\b\b\b\b\b\b\b\b\b\b\b\b 85% 2 - yoochoose-test.dat\b\b\b\b\b\b\b\b\b\b\b\b\b\b\b\b\b\b\b\b\b\b\b\b\b\b\b                           \b\b\b\b\b\b\b\b\b\b\b\b\b\b\b\b\b\b\b\b\b\b\b\b\b\b\b 86% 2 - yoochoose-test.dat\b\b\b\b\b\b\b\b\b\b\b\b\b\b\b\b\b\b\b\b\b\b\b\b\b\b\b                           \b\b\b\b\b\b\b\b\b\b\b\b\b\b\b\b\b\b\b\b\b\b\b\b\b\b\b 87% 2 - yoochoose-test.dat\b\b\b\b\b\b\b\b\b\b\b\b\b\b\b\b\b\b\b\b\b\b\b\b\b\b\b                           \b\b\b\b\b\b\b\b\b\b\b\b\b\b\b\b\b\b\b\b\b\b\b\b\b\b\b 88% 2 - yoochoose-test.dat\b\b\b\b\b\b\b\b\b\b\b\b\b\b\b\b\b\b\b\b\b\b\b\b\b\b\b                           \b\b\b\b\b\b\b\b\b\b\b\b\b\b\b\b\b\b\b\b\b\b\b\b\b\b\b 89% 2 - yoochoose-test.dat\b\b\b\b\b\b\b\b\b\b\b\b\b\b\b\b\b\b\b\b\b\b\b\b\b\b\b                           \b\b\b\b\b\b\b\b\b\b\b\b\b\b\b\b\b\b\b\b\b\b\b\b\b\b\b 90% 2 - yoochoose-test.dat\b\b\b\b\b\b\b\b\b\b\b\b\b\b\b\b\b\b\b\b\b\b\b\b\b\b\b                           \b\b\b\b\b\b\b\b\b\b\b\b\b\b\b\b\b\b\b\b\b\b\b\b\b\b\b 91% 2 - yoochoose-test.dat\b\b\b\b\b\b\b\b\b\b\b\b\b\b\b\b\b\b\b\b\b\b\b\b\b\b\b                           \b\b\b\b\b\b\b\b\b\b\b\b\b\b\b\b\b\b\b\b\b\b\b\b\b\b\b 92% 2 - yoochoose-test.dat\b\b\b\b\b\b\b\b\b\b\b\b\b\b\b\b\b\b\b\b\b\b\b\b\b\b\b                           \b\b\b\b\b\b\b\b\b\b\b\b\b\b\b\b\b\b\b\b\b\b\b\b\b\b\b 93% 2 - yoochoose-test.dat\b\b\b\b\b\b\b\b\b\b\b\b\b\b\b\b\b\b\b\b\b\b\b\b\b\b\b                           \b\b\b\b\b\b\b\b\b\b\b\b\b\b\b\b\b\b\b\b\b\b\b\b\b\b\b 94% 2 - yoochoose-test.dat\b\b\b\b\b\b\b\b\b\b\b\b\b\b\b\b\b\b\b\b\b\b\b\b\b\b\b                           \b\b\b\b\b\b\b\b\b\b\b\b\b\b\b\b\b\b\b\b\b\b\b\b\b\b\b 95% 2 - yoochoose-test.dat\b\b\b\b\b\b\b\b\b\b\b\b\b\b\b\b\b\b\b\b\b\b\b\b\b\b\b                           \b\b\b\b\b\b\b\b\b\b\b\b\b\b\b\b\b\b\b\b\b\b\b\b\b\b\b 96% 2 - yoochoose-test.dat\b\b\b\b\b\b\b\b\b\b\b\b\b\b\b\b\b\b\b\b\b\b\b\b\b\b\b                           \b\b\b\b\b\b\b\b\b\b\b\b\b\b\b\b\b\b\b\b\b\b\b\b\b\b\b 97% 2 - yoochoose-test.dat\b\b\b\b\b\b\b\b\b\b\b\b\b\b\b\b\b\b\b\b\b\b\b\b\b\b\b                           \b\b\b\b\b\b\b\b\b\b\b\b\b\b\b\b\b\b\b\b\b\b\b\b\b\b\b 98% 2 - yoochoose-test.dat\b\b\b\b\b\b\b\b\b\b\b\b\b\b\b\b\b\b\b\b\b\b\b\b\b\b\b                           \b\b\b\b\b\b\b\b\b\b\b\b\b\b\b\b\b\b\b\b\b\b\b\b\b\b\b 99% 2 - yoochoose-test.dat\b\b\b\b\b\b\b\b\b\b\b\b\b\b\b\b\b\b\b\b\b\b\b\b\b\b\b                           \b\b\b\b\b\b\b\b\b\b\b\b\b\b\b\b\b\b\b\b\b\b\b\b\b\b\b 99% 3\b\b\b\b\b\b      \b\b\b\b\b\bEverything is Ok\n",
            "\n",
            "Files: 4\n",
            "Size:       1914111754\n",
            "Compressed: 287211932\n"
          ],
          "name": "stdout"
        }
      ]
    },
    {
      "cell_type": "markdown",
      "metadata": {
        "id": "gpjJOcqDR945"
      },
      "source": [
        "# Preprocesar dataset"
      ]
    },
    {
      "cell_type": "markdown",
      "metadata": {
        "id": "ulAjeeeILmun"
      },
      "source": [
        "## Preprocess dataset"
      ]
    },
    {
      "cell_type": "code",
      "metadata": {
        "id": "7E3mSmYQR9k-"
      },
      "source": [
        "import os\n",
        "import numpy as np\n",
        "import pandas as pd\n",
        "import datetime as dt\n",
        "from matplotlib import pyplot as plt\n",
        "os.environ['TF_CPP_MIN_LOG_LEVEL'] = '3'"
      ],
      "execution_count": 5,
      "outputs": []
    },
    {
      "cell_type": "code",
      "metadata": {
        "id": "WwNyFUAHRssj"
      },
      "source": [
        "src_path = './rsc15/'\n",
        "dst_path   = './data/'"
      ],
      "execution_count": 6,
      "outputs": []
    },
    {
      "cell_type": "code",
      "metadata": {
        "id": "om43PXTNSoLu"
      },
      "source": [
        "def process(src_path, dst_path):\n",
        "  data = pd.read_csv(src_path + 'yoochoose-clicks.dat', sep=',', header=None, usecols=[0,1,2], dtype={0:np.int32, 1:str, 2:np.int64})\n",
        "  data.columns = ['SessionId', 'TimeStr', 'ItemId']\n",
        "\n",
        "  # Add timestamp\n",
        "  data['Time'] = data.TimeStr.apply(lambda x: dt.datetime.strptime(x, '%Y-%m-%dT%H:%M:%S.%fZ').timestamp())\n",
        "  del(data['TimeStr'])\n",
        "\n",
        "  # Filter by session size > 1\n",
        "  session_lengths = data.groupby('SessionId').size()  \n",
        "  data = data[np.in1d(data.SessionId, session_lengths[session_lengths>1].index)]\n",
        "  \n",
        "  # Filter by \"known\" (appears >= 5) items\n",
        "  item_supports = data.groupby('ItemId').size()\n",
        "  data = data[np.in1d(data.ItemId, item_supports[item_supports>=5].index)]\n",
        "  \n",
        "  # Filter by session size > 2\n",
        "  session_lengths = data.groupby('SessionId').size()\n",
        "  data = data[np.in1d(data.SessionId, session_lengths[session_lengths>=2].index)]\n",
        "\n",
        "  # Test split is entire last day\n",
        "  tmax = data.Time.max()\n",
        "  session_max_times = data.groupby('SessionId').Time.max()\n",
        "  \n",
        "  session_train = session_max_times[session_max_times < tmax-86400].index\n",
        "  train = data[np.in1d(data.SessionId, session_train)]\n",
        "  \n",
        "  session_test = session_max_times[session_max_times >= tmax-86400].index\n",
        "  test = data[np.in1d(data.SessionId, session_test)]\n",
        "  test = test[np.in1d(test.ItemId, train.ItemId)]\n",
        "  tslength = test.groupby('SessionId').size()\n",
        "  test = test[np.in1d(test.SessionId, tslength[tslength>=2].index)]\n",
        "  print('Test set\\n\\tEvents: {}\\n\\tSessions: {}\\n\\tItems: {}'.format(len(test), test.SessionId.nunique(), test.ItemId.nunique()))\n",
        "  test.to_csv(dst_path + 'test.tsv', sep='\\t', index=False)\n",
        "\n",
        "  # Validation: second to last day. Train: remainder\n",
        "  tmax = train.Time.max()\n",
        "  session_max_times = train.groupby('SessionId').Time.max()\n",
        "  session_train = session_max_times[session_max_times < tmax-86400].index\n",
        "  session_valid = session_max_times[session_max_times >= tmax-86400].index\n",
        "\n",
        "  train_tr = train[np.in1d(train.SessionId, session_train)]\n",
        "  valid = train[np.in1d(train.SessionId, session_valid)]\n",
        "  valid = valid[np.in1d(valid.ItemId, train_tr.ItemId)]\n",
        "  tslength = valid.groupby('SessionId').size()\n",
        "  valid = valid[np.in1d(valid.SessionId, tslength[tslength>=2].index)]\n",
        "  print('Validation set\\n\\tEvents: {}\\n\\tSessions: {}\\n\\tItems: {}'.format(len(valid), valid.SessionId.nunique(), valid.ItemId.nunique()))\n",
        "  valid.to_csv(dst_path + 'validation.tsv', sep='\\t', index=False)\n",
        "  \n",
        "  \n",
        "  print('Train set\\n\\tEvents: {}\\n\\tSessions: {}\\n\\tItems: {}'.format(len(train_tr), train_tr.SessionId.nunique(), train_tr.ItemId.nunique()))\n",
        "  train_tr.to_csv(dst_path + 'train.tsv', sep='\\t', index=False)\n"
      ],
      "execution_count": 7,
      "outputs": []
    },
    {
      "cell_type": "code",
      "metadata": {
        "id": "nc6wy4phS1v2",
        "colab": {
          "base_uri": "https://localhost:8080/"
        },
        "outputId": "4f226497-0735-458e-abd0-59039468bf3a"
      },
      "source": [
        "process(src_path, dst_path)  # Takes ~10 minutes"
      ],
      "execution_count": 8,
      "outputs": [
        {
          "output_type": "stream",
          "text": [
            "Test set\n",
            "\tEvents: 71222\n",
            "\tSessions: 15324\n",
            "\tItems: 6751\n",
            "Validation set\n",
            "\tEvents: 58233\n",
            "\tSessions: 12372\n",
            "\tItems: 6359\n",
            "Train set\n",
            "\tEvents: 31579006\n",
            "\tSessions: 7953885\n",
            "\tItems: 37483\n"
          ],
          "name": "stdout"
        }
      ]
    },
    {
      "cell_type": "code",
      "metadata": {
        "id": "kx_HdipUDS2z"
      },
      "source": [
        "def train_fraction(df, fraction, prefix=\"train\", path=\"./data/\"):\n",
        "    \n",
        "    length = len(df['ItemId'])\n",
        "    first_session = df.iloc[length - length//fraction].SessionId\n",
        "    df = df.loc[df['SessionId'] >= first_session]\n",
        "    itemids = df['ItemId'].unique()\n",
        "    n_items = len(itemids)\n",
        "\n",
        "    print('Fractioned data set\\n\\tEvents: {}\\n\\tSessions: {}\\n\\tItems: {}'.format(len(df), df.SessionId.nunique(), df.ItemId.nunique()))\n",
        "    filename = path + '{}_{}.tsv'.format(prefix, fraction)\n",
        "    df.to_csv(filename, sep='\\t', index=False)\n",
        "    print(\"Saved as {}\".format(filename))"
      ],
      "execution_count": 9,
      "outputs": []
    },
    {
      "cell_type": "code",
      "metadata": {
        "id": "4r1tWG1gh7eX",
        "colab": {
          "base_uri": "https://localhost:8080/"
        },
        "outputId": "9b110728-490c-4e60-e991-39a4a733bf3f"
      },
      "source": [
        "# Obtain most recent 1/nth fraction of train for demo purposes\n",
        "fraction = 64\n",
        "train = pd.read_csv(dst_path + 'train.tsv', sep='\\t', dtype={'ItemId':np.int64})\n",
        "train_fraction(train, fraction)\n"
      ],
      "execution_count": 10,
      "outputs": [
        {
          "output_type": "stream",
          "text": [
            "Fractioned data set\n",
            "\tEvents: 71391\n",
            "\tSessions: 17450\n",
            "\tItems: 8724\n",
            "Saved as ./data/train_64.tsv\n"
          ],
          "name": "stdout"
        }
      ]
    },
    {
      "cell_type": "markdown",
      "metadata": {
        "id": "ZWgvazVufHs6"
      },
      "source": [
        "# Entrenamiento  Training "
      ]
    },
    {
      "cell_type": "code",
      "metadata": {
        "id": "PSPwVh4AS_GW",
        "colab": {
          "base_uri": "https://localhost:8080/"
        },
        "outputId": "554036ac-6383-444a-fc9e-22be3d93eea4"
      },
      "source": [
        "!python src/model/gru4rec.py --epochs 200 --train-path ./data/train_64.tsv --dev-path ./data/validation.tsv --test-path ./data/test.tsv"
      ],
      "execution_count": 11,
      "outputs": [
        {
          "output_type": "stream",
          "text": [
            "Model: \"functional_1\"\n",
            "_________________________________________________________________\n",
            "Layer (type)                 Output Shape              Param #   \n",
            "=================================================================\n",
            "input_1 (InputLayer)         [(512, 1, 8725)]          0         \n",
            "_________________________________________________________________\n",
            "GRU (GRU)                    [(512, 100), (512, 100)]  2648100   \n",
            "_________________________________________________________________\n",
            "dropout (Dropout)            (512, 100)                0         \n",
            "_________________________________________________________________\n",
            "dense (Dense)                (512, 8725)               881225    \n",
            "=================================================================\n",
            "Total params: 3,529,325\n",
            "Trainable params: 3,529,325\n",
            "Non-trainable params: 0\n",
            "_________________________________________________________________\n",
            "Epoch 1. Loss: 8.35600:  97% 16929/17451 [00:11<00:00, 1421.24it/s]\n",
            "Epoch 2. Loss: 7.87167:  97% 16929/17451 [00:05<00:00, 3354.91it/s]\n",
            "Epoch 3. Loss: 7.57865:  97% 16929/17451 [00:05<00:00, 3342.80it/s]\n",
            "Epoch 4. Loss: 7.37953:  97% 16929/17451 [00:05<00:00, 3326.62it/s]\n",
            "Epoch 5. Loss: 7.27193:  97% 16929/17451 [00:05<00:00, 3299.27it/s]\n",
            "Epoch 6. Loss: 7.13937:  97% 16929/17451 [00:05<00:00, 3335.83it/s]\n",
            "Epoch 7. Loss: 7.01825:  97% 16929/17451 [00:05<00:00, 3372.83it/s]\n",
            "Epoch 8. Loss: 6.86547:  97% 16929/17451 [00:05<00:00, 3359.28it/s]\n",
            "Epoch 9. Loss: 6.69549:  97% 16929/17451 [00:05<00:00, 3344.05it/s]\n",
            "Epoch 10. Loss: 6.54530:  97% 16929/17451 [00:05<00:00, 3356.38it/s]\n",
            "Epoch 11. Loss: 6.32009:  97% 16929/17451 [00:05<00:00, 3358.65it/s]\n",
            "Epoch 12. Loss: 6.13412:  97% 16929/17451 [00:05<00:00, 3363.61it/s]\n",
            "Epoch 13. Loss: 5.96376:  97% 16929/17451 [00:05<00:00, 3342.73it/s]\n",
            "Epoch 14. Loss: 5.80450:  97% 16929/17451 [00:05<00:00, 3383.48it/s]\n",
            "Epoch 15. Loss: 5.62833:  97% 16929/17451 [00:05<00:00, 3353.99it/s]\n",
            "Epoch 16. Loss: 5.44949:  97% 16929/17451 [00:05<00:00, 3349.18it/s]\n",
            "Epoch 17. Loss: 5.32148:  97% 16929/17451 [00:05<00:00, 3348.48it/s]\n",
            "Epoch 18. Loss: 5.16827:  97% 16929/17451 [00:05<00:00, 3361.03it/s]\n",
            "Epoch 19. Loss: 5.04372:  97% 16929/17451 [00:04<00:00, 3392.12it/s]\n",
            "Epoch 20. Loss: 4.88967:  97% 16929/17451 [00:05<00:00, 3349.24it/s]\n",
            "Epoch 21. Loss: 4.80455:  97% 16929/17451 [00:05<00:00, 3335.91it/s]\n",
            "Epoch 22. Loss: 4.65637:  97% 16929/17451 [00:05<00:00, 3306.85it/s]\n",
            "Epoch 23. Loss: 4.50069:  97% 16929/17451 [00:05<00:00, 3342.11it/s]\n",
            "Epoch 24. Loss: 4.37880:  97% 16929/17451 [00:05<00:00, 3339.41it/s]\n",
            "Epoch 25. Loss: 4.26604:  97% 16929/17451 [00:05<00:00, 3381.54it/s]\n",
            "Epoch 26. Loss: 4.13289:  97% 16929/17451 [00:05<00:00, 3347.61it/s]\n",
            "Epoch 27. Loss: 4.02930:  97% 16929/17451 [00:05<00:00, 3340.38it/s]\n",
            "Epoch 28. Loss: 3.94518:  97% 16929/17451 [00:05<00:00, 3318.75it/s]\n",
            "Epoch 29. Loss: 3.84750:  97% 16929/17451 [00:05<00:00, 3275.52it/s]\n",
            "Epoch 30. Loss: 3.70931:  97% 16929/17451 [00:05<00:00, 3272.01it/s]\n",
            "Epoch 31. Loss: 3.63774:  97% 16929/17451 [00:05<00:00, 3338.15it/s]\n",
            "Epoch 32. Loss: 3.53359:  97% 16929/17451 [00:05<00:00, 3382.75it/s]\n",
            "Epoch 33. Loss: 3.44591:  97% 16929/17451 [00:04<00:00, 3389.88it/s]\n",
            "Epoch 34. Loss: 3.38010:  97% 16929/17451 [00:05<00:00, 3323.28it/s]\n",
            "Epoch 35. Loss: 3.29412:  97% 16929/17451 [00:05<00:00, 3350.62it/s]\n",
            "Epoch 36. Loss: 3.22795:  97% 16929/17451 [00:05<00:00, 3348.84it/s]\n",
            "Epoch 37. Loss: 3.11848:  97% 16929/17451 [00:05<00:00, 3335.13it/s]\n",
            "Epoch 38. Loss: 3.05503:  97% 16929/17451 [00:05<00:00, 3355.28it/s]\n",
            "Epoch 39. Loss: 3.01579:  97% 16929/17451 [00:05<00:00, 3329.67it/s]\n",
            "Epoch 40. Loss: 2.94958:  97% 16929/17451 [00:05<00:00, 3371.17it/s]\n",
            "Epoch 41. Loss: 2.88892:  97% 16929/17451 [00:05<00:00, 3354.31it/s]\n",
            "Epoch 42. Loss: 2.87393:  97% 16929/17451 [00:05<00:00, 3382.83it/s]\n",
            "Epoch 43. Loss: 2.71215:  97% 16929/17451 [00:05<00:00, 3385.03it/s]\n",
            "Epoch 44. Loss: 2.71428:  97% 16929/17451 [00:05<00:00, 3377.54it/s]\n",
            "Epoch 45. Loss: 2.67657:  97% 16929/17451 [00:05<00:00, 3339.34it/s]\n",
            "Epoch 46. Loss: 2.57673:  97% 16929/17451 [00:05<00:00, 3360.64it/s]\n",
            "Epoch 47. Loss: 2.57841:  97% 16929/17451 [00:05<00:00, 3367.98it/s]\n",
            "Epoch 48. Loss: 2.52801:  97% 16929/17451 [00:05<00:00, 3284.64it/s]\n",
            "Epoch 49. Loss: 2.51099:  97% 16929/17451 [00:05<00:00, 3354.26it/s]\n",
            "Epoch 50. Loss: 2.47136:  97% 16929/17451 [00:05<00:00, 3343.77it/s]\n",
            "Epoch 51. Loss: 2.45502:  97% 16929/17451 [00:05<00:00, 3346.14it/s]\n",
            "Epoch 52. Loss: 2.41891:  97% 16929/17451 [00:05<00:00, 3333.54it/s]\n",
            "Epoch 53. Loss: 2.42639:  97% 16929/17451 [00:05<00:00, 3318.80it/s]\n",
            "Epoch 54. Loss: 2.37658:  97% 16929/17451 [00:05<00:00, 3335.15it/s]\n",
            "Epoch 55. Loss: 2.33472:  97% 16929/17451 [00:05<00:00, 3377.20it/s]\n",
            "Epoch 56. Loss: 2.31880:  97% 16929/17451 [00:05<00:00, 3361.80it/s]\n",
            "Epoch 57. Loss: 2.29812:  97% 16929/17451 [00:05<00:00, 3367.00it/s]\n",
            "Epoch 58. Loss: 2.31265:  97% 16929/17451 [00:05<00:00, 3323.27it/s]\n",
            "Epoch 59. Loss: 2.26228:  97% 16929/17451 [00:05<00:00, 3353.88it/s]\n",
            "Epoch 60. Loss: 2.25482:  97% 16929/17451 [00:05<00:00, 3364.41it/s]\n",
            "Epoch 61. Loss: 2.23303:  97% 16929/17451 [00:05<00:00, 3372.02it/s]\n",
            "Epoch 62. Loss: 2.20736:  97% 16929/17451 [00:05<00:00, 3383.58it/s]\n",
            "Epoch 63. Loss: 2.20480:  97% 16929/17451 [00:05<00:00, 3360.34it/s]\n",
            "Epoch 64. Loss: 2.15848:  97% 16929/17451 [00:05<00:00, 3353.08it/s]\n",
            "Epoch 65. Loss: 2.15834:  97% 16929/17451 [00:05<00:00, 3379.90it/s]\n",
            "Epoch 66. Loss: 2.12410:  97% 16929/17451 [00:05<00:00, 3350.27it/s]\n",
            "Epoch 67. Loss: 2.11147:  97% 16929/17451 [00:05<00:00, 3366.18it/s]\n",
            "Epoch 68. Loss: 2.11664:  97% 16929/17451 [00:05<00:00, 3362.09it/s]\n",
            "Epoch 69. Loss: 2.14993:  97% 16929/17451 [00:05<00:00, 3336.06it/s]\n",
            "Epoch 70. Loss: 2.12339:  97% 16929/17451 [00:05<00:00, 3362.54it/s]\n",
            "Epoch 71. Loss: 2.06459:  97% 16929/17451 [00:05<00:00, 3376.60it/s]\n",
            "Epoch 72. Loss: 2.06812:  97% 16929/17451 [00:05<00:00, 3341.15it/s]\n",
            "Epoch 73. Loss: 2.07198:  97% 16929/17451 [00:05<00:00, 3349.90it/s]\n",
            "Epoch 74. Loss: 2.06198:  97% 16929/17451 [00:05<00:00, 3347.89it/s]\n",
            "Epoch 75. Loss: 2.07025:  97% 16929/17451 [00:05<00:00, 3363.23it/s]\n",
            "Epoch 76. Loss: 2.02360:  97% 16929/17451 [00:05<00:00, 3357.52it/s]\n",
            "Epoch 77. Loss: 1.99057:  97% 16929/17451 [00:05<00:00, 3348.77it/s]\n",
            "Epoch 78. Loss: 2.01923:  97% 16929/17451 [00:05<00:00, 3366.89it/s]\n",
            "Epoch 79. Loss: 1.97860:  97% 16929/17451 [00:05<00:00, 3356.26it/s]\n",
            "Epoch 80. Loss: 1.97100:  97% 16929/17451 [00:05<00:00, 3371.65it/s]\n",
            "Epoch 81. Loss: 1.99012:  97% 16929/17451 [00:05<00:00, 3347.40it/s]\n",
            "Epoch 82. Loss: 1.95280:  97% 16929/17451 [00:05<00:00, 3343.90it/s]\n",
            "Epoch 83. Loss: 1.94723:  97% 16929/17451 [00:05<00:00, 3375.01it/s]\n",
            "Epoch 84. Loss: 1.97060:  97% 16929/17451 [00:05<00:00, 3332.24it/s]\n",
            "Epoch 85. Loss: 1.97676:  97% 16929/17451 [00:05<00:00, 3324.49it/s]\n",
            "Epoch 86. Loss: 1.91936:  97% 16929/17451 [00:05<00:00, 3331.53it/s]\n",
            "Epoch 87. Loss: 1.94084:  97% 16929/17451 [00:05<00:00, 3368.75it/s]\n",
            "Epoch 88. Loss: 1.95559:  97% 16929/17451 [00:05<00:00, 3353.12it/s]\n",
            "Epoch 89. Loss: 1.93801:  97% 16929/17451 [00:05<00:00, 3348.82it/s]\n",
            "Epoch 90. Loss: 1.91891:  97% 16929/17451 [00:05<00:00, 3354.99it/s]\n",
            "Epoch 91. Loss: 1.88673:  97% 16929/17451 [00:05<00:00, 3269.88it/s]\n",
            "Epoch 92. Loss: 1.88711:  97% 16929/17451 [00:05<00:00, 3269.14it/s]\n",
            "Epoch 93. Loss: 1.84688:  97% 16929/17451 [00:05<00:00, 3341.77it/s]\n",
            "Epoch 94. Loss: 1.89516:  97% 16929/17451 [00:05<00:00, 3377.01it/s]\n",
            "Epoch 95. Loss: 1.89324:  97% 16929/17451 [00:05<00:00, 3360.52it/s]\n",
            "Epoch 96. Loss: 1.83902:  97% 16929/17451 [00:05<00:00, 3351.65it/s]\n",
            "Epoch 97. Loss: 1.86661:  97% 16929/17451 [00:05<00:00, 3359.47it/s]\n",
            "Epoch 98. Loss: 1.81731:  97% 16929/17451 [00:05<00:00, 3353.22it/s]\n",
            "Epoch 99. Loss: 1.87026:  97% 16929/17451 [00:05<00:00, 3329.93it/s]\n",
            "Epoch 100. Loss: 1.82317:  97% 16929/17451 [00:05<00:00, 3331.34it/s]\n",
            "Epoch 101. Loss: 1.86221:  97% 16929/17451 [00:05<00:00, 3341.27it/s]\n",
            "Epoch 102. Loss: 1.79306:  97% 16929/17451 [00:05<00:00, 3357.14it/s]\n",
            "Epoch 103. Loss: 1.78595:  97% 16929/17451 [00:05<00:00, 3373.72it/s]\n",
            "Epoch 104. Loss: 1.77220:  97% 16929/17451 [00:05<00:00, 3351.60it/s]\n",
            "Epoch 105. Loss: 1.83409:  97% 16929/17451 [00:05<00:00, 3354.34it/s]\n",
            "Epoch 106. Loss: 1.79175:  97% 16929/17451 [00:05<00:00, 3340.54it/s]\n",
            "Epoch 107. Loss: 1.76230:  97% 16929/17451 [00:05<00:00, 3379.29it/s]\n",
            "Epoch 108. Loss: 1.80334:  97% 16929/17451 [00:05<00:00, 3300.56it/s]\n",
            "Epoch 109. Loss: 1.77580:  97% 16929/17451 [00:05<00:00, 3315.38it/s]\n",
            "Epoch 110. Loss: 1.78889:  97% 16929/17451 [00:05<00:00, 3348.49it/s]\n",
            "Epoch 111. Loss: 1.77121:  97% 16929/17451 [00:05<00:00, 3353.14it/s]\n",
            "Epoch 112. Loss: 1.77497:  97% 16929/17451 [00:05<00:00, 3319.10it/s]\n",
            "Epoch 113. Loss: 1.74708:  97% 16929/17451 [00:05<00:00, 3374.68it/s]\n",
            "Epoch 114. Loss: 1.72424:  97% 16929/17451 [00:05<00:00, 3338.87it/s]\n",
            "Epoch 115. Loss: 1.72852:  97% 16929/17451 [00:05<00:00, 3362.85it/s]\n",
            "Epoch 116. Loss: 1.75229:  97% 16929/17451 [00:05<00:00, 3327.34it/s]\n",
            "Epoch 117. Loss: 1.71489:  97% 16929/17451 [00:05<00:00, 3317.16it/s]\n",
            "Epoch 118. Loss: 1.78151:  97% 16929/17451 [00:05<00:00, 3359.60it/s]\n",
            "Epoch 119. Loss: 1.73359:  97% 16929/17451 [00:04<00:00, 3388.85it/s]\n",
            "Epoch 120. Loss: 1.76843:  97% 16929/17451 [00:05<00:00, 3382.70it/s]\n",
            "Epoch 121. Loss: 1.75465:  97% 16929/17451 [00:05<00:00, 3364.26it/s]\n",
            "Epoch 122. Loss: 1.76560:  97% 16929/17451 [00:05<00:00, 3372.12it/s]\n",
            "Epoch 123. Loss: 1.72952:  97% 16929/17451 [00:05<00:00, 3380.16it/s]\n",
            "Epoch 124. Loss: 1.74902:  97% 16929/17451 [00:05<00:00, 3355.88it/s]\n",
            "Epoch 125. Loss: 1.71072:  97% 16929/17451 [00:05<00:00, 3383.61it/s]\n",
            "Epoch 126. Loss: 1.73865:  97% 16929/17451 [00:05<00:00, 3380.52it/s]\n",
            "Epoch 127. Loss: 1.67551:  97% 16929/17451 [00:04<00:00, 3388.95it/s]\n",
            "Epoch 128. Loss: 1.70990:  97% 16929/17451 [00:04<00:00, 3395.53it/s]\n",
            "Epoch 129. Loss: 1.71093:  97% 16929/17451 [00:05<00:00, 3383.64it/s]\n",
            "Epoch 130. Loss: 1.68688:  97% 16929/17451 [00:05<00:00, 3371.99it/s]\n",
            "Epoch 131. Loss: 1.70859:  97% 16929/17451 [00:04<00:00, 3391.34it/s]\n",
            "Epoch 132. Loss: 1.63939:  97% 16929/17451 [00:05<00:00, 3351.21it/s]\n",
            "Epoch 133. Loss: 1.68331:  97% 16929/17451 [00:05<00:00, 3363.09it/s]\n",
            "Epoch 134. Loss: 1.71164:  97% 16929/17451 [00:05<00:00, 3368.53it/s]\n",
            "Epoch 135. Loss: 1.70863:  97% 16929/17451 [00:05<00:00, 3367.48it/s]\n",
            "Epoch 136. Loss: 1.67578:  97% 16929/17451 [00:05<00:00, 3358.55it/s]\n",
            "Epoch 137. Loss: 1.71834:  97% 16929/17451 [00:05<00:00, 3382.95it/s]\n",
            "Epoch 138. Loss: 1.68492:  97% 16929/17451 [00:04<00:00, 3387.74it/s]\n",
            "Epoch 139. Loss: 1.65867:  97% 16929/17451 [00:04<00:00, 3396.92it/s]\n",
            "Epoch 140. Loss: 1.64475:  97% 16929/17451 [00:05<00:00, 3377.42it/s]\n",
            "Epoch 141. Loss: 1.66238:  97% 16929/17451 [00:05<00:00, 3356.89it/s]\n",
            "Epoch 142. Loss: 1.72787:  97% 16929/17451 [00:05<00:00, 3383.60it/s]\n",
            "Epoch 143. Loss: 1.70885:  97% 16929/17451 [00:05<00:00, 3377.55it/s]\n",
            "Epoch 144. Loss: 1.64669:  97% 16929/17451 [00:05<00:00, 3360.16it/s]\n",
            "Epoch 145. Loss: 1.65994:  97% 16929/17451 [00:05<00:00, 3384.37it/s]\n",
            "Epoch 146. Loss: 1.65590:  97% 16929/17451 [00:05<00:00, 3371.40it/s]\n",
            "Epoch 147. Loss: 1.66485:  97% 16929/17451 [00:05<00:00, 3345.58it/s]\n",
            "Epoch 148. Loss: 1.63581:  97% 16929/17451 [00:05<00:00, 3337.89it/s]\n",
            "Epoch 149. Loss: 1.65157:  97% 16929/17451 [00:05<00:00, 3320.53it/s]\n",
            "Epoch 150. Loss: 1.72432:  97% 16929/17451 [00:04<00:00, 3391.38it/s]\n",
            "Epoch 151. Loss: 1.67520:  97% 16929/17451 [00:05<00:00, 3368.31it/s]\n",
            "Epoch 152. Loss: 1.68086:  97% 16929/17451 [00:05<00:00, 3327.84it/s]\n",
            "Epoch 153. Loss: 1.65341:  97% 16929/17451 [00:05<00:00, 3285.04it/s]\n",
            "Epoch 154. Loss: 1.68016:  97% 16929/17451 [00:05<00:00, 3299.22it/s]\n",
            "Epoch 155. Loss: 1.65848:  97% 16929/17451 [00:05<00:00, 3381.76it/s]\n",
            "Epoch 156. Loss: 1.65983:  97% 16929/17451 [00:05<00:00, 3383.54it/s]\n",
            "Epoch 157. Loss: 1.59140:  97% 16929/17451 [00:05<00:00, 3358.35it/s]\n",
            "Epoch 158. Loss: 1.66095:  97% 16929/17451 [00:05<00:00, 3360.35it/s]\n",
            "Epoch 159. Loss: 1.64256:  97% 16929/17451 [00:05<00:00, 3382.08it/s]\n",
            "Epoch 160. Loss: 1.62698:  97% 16929/17451 [00:05<00:00, 3344.18it/s]\n",
            "Epoch 161. Loss: 1.62651:  97% 16929/17451 [00:05<00:00, 3350.34it/s]\n",
            "Epoch 162. Loss: 1.59244:  97% 16929/17451 [00:05<00:00, 3379.32it/s]\n",
            "Epoch 163. Loss: 1.65597:  97% 16929/17451 [00:05<00:00, 3381.93it/s]\n",
            "Epoch 164. Loss: 1.61601:  97% 16929/17451 [00:05<00:00, 3326.33it/s]\n",
            "Epoch 165. Loss: 1.60715:  97% 16929/17451 [00:05<00:00, 3325.42it/s]\n",
            "Epoch 166. Loss: 1.66026:  97% 16929/17451 [00:05<00:00, 3368.76it/s]\n",
            "Epoch 167. Loss: 1.60282:  97% 16929/17451 [00:05<00:00, 3380.99it/s]\n",
            "Epoch 168. Loss: 1.62906:  97% 16929/17451 [00:05<00:00, 3357.63it/s]\n",
            "Epoch 169. Loss: 1.64150:  97% 16929/17451 [00:05<00:00, 3267.34it/s]\n",
            "Epoch 170. Loss: 1.62270:  97% 16929/17451 [00:05<00:00, 3365.57it/s]\n",
            "Epoch 171. Loss: 1.70697:  97% 16929/17451 [00:05<00:00, 3370.58it/s]\n",
            "Epoch 172. Loss: 1.62106:  97% 16929/17451 [00:05<00:00, 3332.68it/s]\n",
            "Epoch 173. Loss: 1.61897:  97% 16929/17451 [00:05<00:00, 3347.05it/s]\n",
            "Epoch 174. Loss: 1.61523:  97% 16929/17451 [00:05<00:00, 3376.95it/s]\n",
            "Epoch 175. Loss: 1.65636:  97% 16929/17451 [00:04<00:00, 3386.47it/s]\n",
            "Epoch 176. Loss: 1.63865:  97% 16929/17451 [00:05<00:00, 3384.03it/s]\n",
            "Epoch 177. Loss: 1.63573:  97% 16929/17451 [00:05<00:00, 3353.09it/s]\n",
            "Epoch 178. Loss: 1.59363:  97% 16929/17451 [00:05<00:00, 3379.87it/s]\n",
            "Epoch 179. Loss: 1.57612:  97% 16929/17451 [00:05<00:00, 3353.57it/s]\n",
            "Epoch 180. Loss: 1.60159:  97% 16929/17451 [00:05<00:00, 3348.52it/s]\n",
            "Epoch 181. Loss: 1.63182:  97% 16929/17451 [00:05<00:00, 3342.23it/s]\n",
            "Epoch 182. Loss: 1.56324:  97% 16929/17451 [00:05<00:00, 3381.67it/s]\n",
            "Epoch 183. Loss: 1.56914:  97% 16929/17451 [00:05<00:00, 3381.81it/s]\n",
            "Epoch 184. Loss: 1.61178:  97% 16929/17451 [00:05<00:00, 3377.93it/s]\n",
            "Epoch 185. Loss: 1.60499:  97% 16929/17451 [00:05<00:00, 3384.96it/s]\n",
            "Epoch 186. Loss: 1.59688:  97% 16929/17451 [00:04<00:00, 3396.41it/s]\n",
            "Epoch 187. Loss: 1.58441:  97% 16929/17451 [00:05<00:00, 3381.56it/s]\n",
            "Epoch 188. Loss: 1.60388:  97% 16929/17451 [00:04<00:00, 3394.48it/s]\n",
            "Epoch 189. Loss: 1.58786:  97% 16929/17451 [00:04<00:00, 3397.39it/s]\n",
            "Epoch 190. Loss: 1.59608:  97% 16929/17451 [00:05<00:00, 3381.19it/s]\n",
            "Epoch 191. Loss: 1.57537:  97% 16929/17451 [00:05<00:00, 3356.78it/s]\n",
            "Epoch 192. Loss: 1.56103:  97% 16929/17451 [00:05<00:00, 3375.20it/s]\n",
            "Epoch 193. Loss: 1.61830:  97% 16929/17451 [00:05<00:00, 3371.80it/s]\n",
            "Epoch 194. Loss: 1.57079:  97% 16929/17451 [00:05<00:00, 3361.12it/s]\n",
            "Epoch 195. Loss: 1.52103:  97% 16929/17451 [00:04<00:00, 3388.93it/s]\n",
            "Epoch 196. Loss: 1.61081:  97% 16929/17451 [00:05<00:00, 3318.47it/s]\n",
            "Epoch 197. Loss: 1.61079:  97% 16929/17451 [00:05<00:00, 3339.41it/s]\n",
            "Epoch 198. Loss: 1.58365:  97% 16929/17451 [00:05<00:00, 3372.54it/s]\n",
            "Epoch 199. Loss: 1.58928:  97% 16929/17451 [00:04<00:00, 3386.96it/s]\n",
            "Evaluating model...\n",
            "\t - Recall@20 epoch 200: 0.463768\n",
            "\t - MRR@20    epoch 200: 0.162747\n",
            "\n"
          ],
          "name": "stdout"
        }
      ]
    },
    {
      "cell_type": "markdown",
      "metadata": {
        "id": "tk9EgsON-8Sr"
      },
      "source": [
        "## Resultados\n",
        "\n",
        "Luego de 200 épocas, deberías obtener un desempeño similar al siguiente:\n",
        "\n",
        "After 200 epochs, you should get a performance similar to the following:\n",
        "\n",
        "\t - Recall@20: 0.47\n",
        "\t - MRR@20   : 0.16\n",
        "\n",
        "\n",
        "Para replicar resultados del paper, utiliza el set de entrenamiento completo\n",
        "\n",
        "To replicate results from the paper, use the full training set"
      ]
    },
    {
      "cell_type": "markdown",
      "metadata": {
        "id": "njfQIzqi_KK8"
      },
      "source": [
        "## Aprovechando información implícita: Dwell Time\n",
        "\n",
        "## Taking advantage of implicit information: Dwell Time\n",
        "\n",
        "Podemos utilizar el tiempo que cada item fue visitado por cada usuario para realizar mejores recomendaciones.\n",
        "\n",
        "El supuesto es: a mayor tiempo de permanencia (dwell time) en un item, más interesado está el usuario en dicho item.\n",
        "\n",
        "Se hará item boosting en el set de entrenamiento.\n",
        "\n",
        "We can use the time that each item was visited by each user to make better recommendations.\n",
        "\n",
        "The assumption is: the longer the dwell time on an item, the more interested the user is in that item.\n",
        "\n",
        "Item boosting will be done in the training set."
      ]
    },
    {
      "cell_type": "code",
      "metadata": {
        "id": "lh9fruDcuVYg"
      },
      "source": [
        "def preprocess_df(df):    \n",
        "    n_items = len(df['ItemId'].unique())\n",
        "    aux = list(df['ItemId'].unique())\n",
        "    itemids = np.array(aux)\n",
        "    itemidmap = pd.Series(data=np.arange(n_items), index=itemids)  # (id_item => (0, n_items))\n",
        "    \n",
        "    item_key = 'ItemId'\n",
        "    session_key = 'SessionId'\n",
        "    time_key = 'Time'\n",
        "    \n",
        "    data = pd.merge(df, pd.DataFrame({item_key:itemids, 'ItemIdx':itemidmap[itemids].values}), on=item_key, how='inner')\n",
        "    data.sort_values([session_key, time_key], inplace=True)\n",
        "\n",
        "    length = len(data['ItemId'])\n",
        "        \n",
        "    return data"
      ],
      "execution_count": 12,
      "outputs": []
    },
    {
      "cell_type": "code",
      "metadata": {
        "id": "j5O-1YDR_vNY"
      },
      "source": [
        "def compute_dwell_time(df):\n",
        "    times_t = np.roll(df['Time'], -1) # Take time row\n",
        "    times_dt  = df['Time']            # Copy, then displace by one\n",
        "    diffs = np.subtract(times_t, times_dt) # Take pairwise difference\n",
        "    length = len(df['ItemId'])\n",
        "    \n",
        "    # cummulative offset start for each session\n",
        "    offset_sessions = np.zeros(df['SessionId'].nunique()+1, dtype=np.int32)\n",
        "    offset_sessions[1:] = df.groupby('SessionId').size().cumsum() \n",
        "    offset_sessions = offset_sessions - 1\n",
        "    offset_sessions = np.roll(offset_sessions, -1)\n",
        "    \n",
        "    np.put(diffs.values, offset_sessions, np.zeros((offset_sessions.shape)), mode='raise')\n",
        "\n",
        "    return diffs"
      ],
      "execution_count": 13,
      "outputs": []
    },
    {
      "cell_type": "code",
      "metadata": {
        "id": "7vFvOPH9Bfeq"
      },
      "source": [
        "def get_distribution(dts):\n",
        "    filtered = np.array(list(filter(lambda x: int(x) != 0, dts)))\n",
        "    pd_dts = pd.DataFrame(filtered)\n",
        "    pd_dts.boxplot(vert=False, showfliers=False)\n",
        "    plt.xlabel(\"Seconds\")\n",
        "    plt.yticks([])\n",
        "    plt.title(\"Dwell time distribution for RSC15 dataset\")\n",
        "    plt.show()\n",
        "    pd_dts.describe()"
      ],
      "execution_count": 14,
      "outputs": []
    },
    {
      "cell_type": "code",
      "metadata": {
        "id": "pPxWD0xPBfVE"
      },
      "source": [
        "def join_dwell_reps(df, dt, threshold=2000):\n",
        "    # Calculate d_ti/threshold + 1 then add column to dataFrame\n",
        "    dt //= threshold\n",
        "    dt += 1   \n",
        "    df['DwellReps'] = pd.Series(dt.astype(np.int64), index=dt.index)"
      ],
      "execution_count": 15,
      "outputs": []
    },
    {
      "cell_type": "code",
      "metadata": {
        "id": "jYX1RjhQ_wZG"
      },
      "source": [
        "def augment(df):    \n",
        "    col_names = list(df.columns.values)[:3]\n",
        "    augmented = np.repeat(df.values, df['DwellReps'], axis=0) \n",
        "    augmented = pd.DataFrame(data=augmented[:,:3],\n",
        "                             columns=col_names)\n",
        "    dtype = {'SessionId': np.int64, \n",
        "             'ItemId': np.int64, \n",
        "             'Time': np.float32}\n",
        "    \n",
        "    for k, v in dtype.items():\n",
        "        augmented[k] = augmented[k].astype(v)                  \n",
        "    \n",
        "    return augmented"
      ],
      "execution_count": 16,
      "outputs": []
    },
    {
      "cell_type": "code",
      "metadata": {
        "id": "veILDG2X_yJm"
      },
      "source": [
        "new_df = preprocess_df(train)\n",
        "dts = compute_dwell_time(new_df)"
      ],
      "execution_count": 17,
      "outputs": []
    },
    {
      "cell_type": "code",
      "metadata": {
        "id": "7xIJMF5aABmF",
        "colab": {
          "base_uri": "https://localhost:8080/",
          "height": 295
        },
        "outputId": "d99d2d08-29d9-492e-aaf9-8be9bb9c7e75"
      },
      "source": [
        "# Visualize\n",
        "get_distribution(dts)"
      ],
      "execution_count": 18,
      "outputs": [
        {
          "output_type": "display_data",
          "data": {
            "image/png": "[encoded data removed]",
            "text/plain": [
              "<Figure size 432x288 with 1 Axes>"
            ]
          },
          "metadata": {
            "tags": [],
            "needs_background": "light"
          }
        }
      ]
    },
    {
      "cell_type": "code",
      "metadata": {
        "id": "Y4mZ3YB0Ai4q"
      },
      "source": [
        "# threshold is a hyperparameter\n",
        "join_dwell_reps(new_df, dts, threshold=75)\n",
        "\n",
        "# augment the sessions copying each entry an additional (dwellReps[i]-1) times\n",
        "df_aug = augment(new_df)\n",
        "df_aug.to_csv(\"./data/augmented_train.csv\", index=False, sep='\\t')"
      ],
      "execution_count": 19,
      "outputs": []
    },
    {
      "cell_type": "code",
      "metadata": {
        "id": "X1N36STyCrrs",
        "colab": {
          "base_uri": "https://localhost:8080/"
        },
        "outputId": "fcc6522c-e36e-478d-8439-ca9474287cbf"
      },
      "source": [
        "# retrieve 1/n most recent fraction for demo purposes \n",
        "# (note it is a smaller fraction due to the inflation process)\n",
        "fraction = 64*7\n",
        "train_fraction(df_aug, fraction, prefix='aug_train')"
      ],
      "execution_count": 20,
      "outputs": [
        {
          "output_type": "stream",
          "text": [
            "Fractioned data set\n",
            "\tEvents: 151923\n",
            "\tSessions: 16351\n",
            "\tItems: 8484\n",
            "Saved as ./data/aug_train_448.tsv\n"
          ],
          "name": "stdout"
        }
      ]
    },
    {
      "cell_type": "markdown",
      "metadata": {
        "id": "v2E2q1ArD5Sr"
      },
      "source": [
        "## Entrenamiento con Dwell Time\n",
        "\n",
        "## Training with Dwell Time"
      ]
    },
    {
      "cell_type": "code",
      "metadata": {
        "id": "HNq8lpRADWZ2",
        "colab": {
          "base_uri": "https://localhost:8080/"
        },
        "outputId": "2e5ca7c1-33ec-44e1-fafa-3298bcd71200"
      },
      "source": [
        "!python src/model/gru4rec.py --epochs 200 --train-path ./data/aug_train_448.tsv --dev-path ./data/validation.tsv --test-path ./data/test.tsv"
      ],
      "execution_count": 21,
      "outputs": [
        {
          "output_type": "stream",
          "text": [
            "Model: \"functional_1\"\n",
            "_________________________________________________________________\n",
            "Layer (type)                 Output Shape              Param #   \n",
            "=================================================================\n",
            "input_1 (InputLayer)         [(512, 1, 8485)]          0         \n",
            "_________________________________________________________________\n",
            "GRU (GRU)                    [(512, 100), (512, 100)]  2576100   \n",
            "_________________________________________________________________\n",
            "dropout (Dropout)            (512, 100)                0         \n",
            "_________________________________________________________________\n",
            "dense (Dense)                (512, 8485)               856985    \n",
            "=================================================================\n",
            "Total params: 3,433,085\n",
            "Trainable params: 3,433,085\n",
            "Non-trainable params: 0\n",
            "_________________________________________________________________\n",
            "Epoch 1. Loss: 7.67757:  97% 15835/16352 [00:19<00:00, 826.30it/s] \n",
            "Epoch 2. Loss: 6.96695:  97% 15835/16352 [00:12<00:00, 1299.01it/s]\n",
            "Epoch 3. Loss: 6.15197:  97% 15835/16352 [00:12<00:00, 1294.81it/s]\n",
            "Epoch 4. Loss: 5.34318:  97% 15835/16352 [00:12<00:00, 1296.36it/s]\n",
            "Epoch 5. Loss: 4.69243:  97% 15835/16352 [00:12<00:00, 1268.24it/s]\n",
            "Epoch 6. Loss: 4.13667:  97% 15835/16352 [00:12<00:00, 1261.41it/s]\n",
            "Epoch 7. Loss: 3.73737:  97% 15835/16352 [00:13<00:00, 1212.41it/s]\n",
            "Epoch 8. Loss: 3.39308:  97% 15835/16352 [00:12<00:00, 1228.85it/s]\n",
            "Epoch 9. Loss: 3.12843:  97% 15835/16352 [00:13<00:00, 1213.28it/s]\n",
            "Epoch 10. Loss: 2.91777:  97% 15835/16352 [00:12<00:00, 1219.15it/s]\n",
            "Epoch 11. Loss: 2.73196:  97% 15835/16352 [00:12<00:00, 1247.68it/s]\n",
            "Epoch 12. Loss: 2.58470:  97% 15835/16352 [00:12<00:00, 1248.32it/s]\n",
            "Epoch 13. Loss: 2.43191:  97% 15835/16352 [00:12<00:00, 1237.75it/s]\n",
            "Epoch 14. Loss: 2.33781:  97% 15835/16352 [00:12<00:00, 1244.73it/s]\n",
            "Epoch 15. Loss: 2.21640:  97% 15835/16352 [00:12<00:00, 1257.80it/s]\n",
            "Epoch 16. Loss: 2.14390:  97% 15835/16352 [00:12<00:00, 1269.35it/s]\n",
            "Epoch 17. Loss: 2.05993:  97% 15835/16352 [00:12<00:00, 1270.35it/s]\n",
            "Epoch 18. Loss: 1.97877:  97% 15835/16352 [00:12<00:00, 1270.51it/s]\n",
            "Epoch 19. Loss: 1.93802:  97% 15835/16352 [00:12<00:00, 1273.41it/s]\n",
            "Epoch 20. Loss: 1.83372:  97% 15835/16352 [00:12<00:00, 1255.23it/s]\n",
            "Epoch 21. Loss: 1.84410:  97% 15835/16352 [00:12<00:00, 1261.39it/s]\n",
            "Epoch 22. Loss: 1.76549:  97% 15835/16352 [00:12<00:00, 1273.00it/s]\n",
            "Epoch 23. Loss: 1.72842:  97% 15835/16352 [00:12<00:00, 1269.50it/s]\n",
            "Epoch 24. Loss: 1.66410:  97% 15835/16352 [00:12<00:00, 1278.13it/s]\n",
            "Epoch 25. Loss: 1.63389:  97% 15835/16352 [00:12<00:00, 1282.47it/s]\n",
            "Epoch 26. Loss: 1.60207:  97% 15835/16352 [00:12<00:00, 1271.22it/s]\n",
            "Epoch 27. Loss: 1.55700:  97% 15835/16352 [00:12<00:00, 1288.15it/s]\n",
            "Epoch 28. Loss: 1.52280:  97% 15835/16352 [00:12<00:00, 1283.57it/s]\n",
            "Epoch 29. Loss: 1.52590:  97% 15835/16352 [00:12<00:00, 1284.79it/s]\n",
            "Epoch 30. Loss: 1.48371:  97% 15835/16352 [00:12<00:00, 1283.74it/s]\n",
            "Epoch 31. Loss: 1.46742:  97% 15835/16352 [00:12<00:00, 1255.74it/s]\n",
            "Epoch 32. Loss: 1.46213:  97% 15835/16352 [00:12<00:00, 1256.37it/s]\n",
            "Epoch 33. Loss: 1.42832:  97% 15835/16352 [00:12<00:00, 1271.03it/s]\n",
            "Epoch 34. Loss: 1.42773:  97% 15835/16352 [00:12<00:00, 1286.03it/s]\n",
            "Epoch 35. Loss: 1.38640:  97% 15835/16352 [00:12<00:00, 1301.51it/s]\n",
            "Epoch 36. Loss: 1.38926:  97% 15835/16352 [00:12<00:00, 1289.04it/s]\n",
            "Epoch 37. Loss: 1.37421:  97% 15835/16352 [00:12<00:00, 1281.23it/s]\n",
            "Epoch 38. Loss: 1.35415:  97% 15835/16352 [00:12<00:00, 1297.64it/s]\n",
            "Epoch 39. Loss: 1.34064:  97% 15835/16352 [00:12<00:00, 1284.24it/s]\n",
            "Epoch 40. Loss: 1.33205:  97% 15835/16352 [00:12<00:00, 1292.67it/s]\n",
            "Epoch 41. Loss: 1.33101:  97% 15835/16352 [00:12<00:00, 1295.12it/s]\n",
            "Epoch 42. Loss: 1.30124:  97% 15835/16352 [00:12<00:00, 1298.85it/s]\n",
            "Epoch 43. Loss: 1.36909:  97% 15835/16352 [00:12<00:00, 1292.26it/s]\n",
            "Epoch 44. Loss: 1.31890:  97% 15835/16352 [00:12<00:00, 1298.74it/s]\n",
            "Epoch 45. Loss: 1.27478:  97% 15835/16352 [00:12<00:00, 1278.81it/s]\n",
            "Epoch 46. Loss: 1.25018:  97% 15835/16352 [00:12<00:00, 1287.73it/s]\n",
            "Epoch 47. Loss: 1.25434:  97% 15835/16352 [00:12<00:00, 1300.92it/s]\n",
            "Epoch 48. Loss: 1.22912:  97% 15835/16352 [00:12<00:00, 1299.85it/s]\n",
            "Epoch 49. Loss: 1.22294:  97% 15835/16352 [00:12<00:00, 1303.70it/s]\n",
            "Epoch 50. Loss: 1.22654:  97% 15835/16352 [00:12<00:00, 1309.03it/s]\n",
            "Epoch 51. Loss: 1.27528:  97% 15835/16352 [00:12<00:00, 1298.80it/s]\n",
            "Epoch 52. Loss: 1.19977:  97% 15835/16352 [00:12<00:00, 1309.29it/s]\n",
            "Epoch 53. Loss: 1.22205:  97% 15835/16352 [00:12<00:00, 1304.14it/s]\n",
            "Epoch 54. Loss: 1.18775:  97% 15835/16352 [00:12<00:00, 1312.24it/s]\n",
            "Epoch 55. Loss: 1.22020:  97% 15835/16352 [00:12<00:00, 1312.74it/s]\n",
            "Epoch 56. Loss: 1.20261:  97% 15835/16352 [00:12<00:00, 1310.61it/s]\n",
            "Epoch 57. Loss: 1.20955:  97% 15835/16352 [00:12<00:00, 1281.30it/s]\n",
            "Epoch 58. Loss: 1.18564:  97% 15835/16352 [00:12<00:00, 1311.45it/s]\n",
            "Epoch 59. Loss: 1.18344:  97% 15835/16352 [00:12<00:00, 1303.50it/s]\n",
            "Epoch 60. Loss: 1.21417:  97% 15835/16352 [00:12<00:00, 1311.33it/s]\n",
            "Epoch 61. Loss: 1.13640:  97% 15835/16352 [00:12<00:00, 1307.41it/s]\n",
            "Epoch 62. Loss: 1.19868:  97% 15835/16352 [00:12<00:00, 1305.23it/s]\n",
            "Epoch 63. Loss: 1.20062:  97% 15835/16352 [00:12<00:00, 1319.12it/s]\n",
            "Epoch 64. Loss: 1.17677:  97% 15835/16352 [00:12<00:00, 1310.67it/s]\n",
            "Epoch 65. Loss: 1.17146:  97% 15835/16352 [00:12<00:00, 1314.90it/s]\n",
            "Epoch 66. Loss: 1.17169:  97% 15835/16352 [00:12<00:00, 1307.27it/s]\n",
            "Epoch 67. Loss: 1.16352:  97% 15835/16352 [00:12<00:00, 1319.46it/s]\n",
            "Epoch 68. Loss: 1.14278:  97% 15835/16352 [00:11<00:00, 1320.72it/s]\n",
            "Epoch 69. Loss: 1.14510:  97% 15835/16352 [00:12<00:00, 1318.88it/s]\n",
            "Epoch 70. Loss: 1.11756:  97% 15835/16352 [00:12<00:00, 1317.35it/s]\n",
            "Epoch 71. Loss: 1.13546:  97% 15835/16352 [00:12<00:00, 1308.04it/s]\n",
            "Epoch 72. Loss: 1.12546:  97% 15835/16352 [00:12<00:00, 1310.65it/s]\n",
            "Epoch 73. Loss: 1.10149:  97% 15835/16352 [00:12<00:00, 1319.39it/s]\n",
            "Epoch 74. Loss: 1.11643:  97% 15835/16352 [00:11<00:00, 1323.30it/s]\n",
            "Epoch 75. Loss: 1.15678:  97% 15835/16352 [00:12<00:00, 1314.91it/s]\n",
            "Epoch 76. Loss: 1.15316:  97% 15835/16352 [00:12<00:00, 1319.06it/s]\n",
            "Epoch 77. Loss: 1.09775:  97% 15835/16352 [00:12<00:00, 1316.76it/s]\n",
            "Epoch 78. Loss: 1.14844:  97% 15835/16352 [00:12<00:00, 1319.04it/s]\n",
            "Epoch 79. Loss: 1.13316:  97% 15835/16352 [00:12<00:00, 1315.18it/s]\n",
            "Epoch 80. Loss: 1.09897:  97% 15835/16352 [00:11<00:00, 1319.80it/s]\n",
            "Epoch 81. Loss: 1.09990:  97% 15835/16352 [00:12<00:00, 1318.74it/s]\n",
            "Epoch 82. Loss: 1.09612:  97% 15835/16352 [00:12<00:00, 1319.00it/s]\n",
            "Epoch 83. Loss: 1.13084:  97% 15835/16352 [00:12<00:00, 1278.05it/s]\n",
            "Epoch 84. Loss: 1.11959:  97% 15835/16352 [00:11<00:00, 1326.27it/s]\n",
            "Epoch 85. Loss: 1.08719:  97% 15835/16352 [00:12<00:00, 1307.57it/s]\n",
            "Epoch 86. Loss: 1.12710:  97% 15835/16352 [00:12<00:00, 1306.35it/s]\n",
            "Epoch 87. Loss: 1.05662:  97% 15835/16352 [00:12<00:00, 1311.28it/s]\n",
            "Epoch 88. Loss: 1.06700:  97% 15835/16352 [00:12<00:00, 1315.99it/s]\n",
            "Epoch 89. Loss: 1.08604:  97% 15835/16352 [00:11<00:00, 1324.08it/s]\n",
            "Epoch 90. Loss: 1.05599:  97% 15835/16352 [00:12<00:00, 1317.50it/s]\n",
            "Epoch 91. Loss: 1.12619:  97% 15835/16352 [00:12<00:00, 1317.57it/s]\n",
            "Epoch 92. Loss: 1.02697:  97% 15835/16352 [00:12<00:00, 1317.28it/s]\n",
            "Epoch 93. Loss: 1.07366:  97% 15835/16352 [00:11<00:00, 1322.67it/s]\n",
            "Epoch 94. Loss: 1.04823:  97% 15835/16352 [00:11<00:00, 1330.13it/s]\n",
            "Epoch 95. Loss: 1.07464:  97% 15835/16352 [00:12<00:00, 1317.40it/s]\n",
            "Epoch 96. Loss: 1.05650:  97% 15835/16352 [00:11<00:00, 1326.12it/s]\n",
            "Epoch 97. Loss: 1.05262:  97% 15835/16352 [00:11<00:00, 1327.48it/s]\n",
            "Epoch 98. Loss: 1.05884:  97% 15835/16352 [00:11<00:00, 1327.08it/s]\n",
            "Epoch 99. Loss: 1.03535:  97% 15835/16352 [00:12<00:00, 1318.05it/s]\n",
            "Epoch 100. Loss: 1.01481:  97% 15835/16352 [00:11<00:00, 1328.15it/s]\n",
            "Epoch 101. Loss: 1.02525:  97% 15835/16352 [00:11<00:00, 1328.00it/s]\n",
            "Epoch 102. Loss: 1.08791:  97% 15835/16352 [00:11<00:00, 1329.64it/s]\n",
            "Epoch 103. Loss: 1.03433:  97% 15835/16352 [00:11<00:00, 1329.44it/s]\n",
            "Epoch 104. Loss: 1.04768:  97% 15835/16352 [00:11<00:00, 1328.08it/s]\n",
            "Epoch 105. Loss: 1.05172:  97% 15835/16352 [00:11<00:00, 1324.28it/s]\n",
            "Epoch 106. Loss: 1.05074:  97% 15835/16352 [00:12<00:00, 1315.22it/s]\n",
            "Epoch 107. Loss: 1.03809:  97% 15835/16352 [00:12<00:00, 1316.22it/s]\n",
            "Epoch 108. Loss: 1.02350:  97% 15835/16352 [00:12<00:00, 1289.45it/s]\n",
            "Epoch 109. Loss: 1.06213:  97% 15835/16352 [00:12<00:00, 1241.03it/s]\n",
            "Epoch 110. Loss: 1.03364:  97% 15835/16352 [00:12<00:00, 1232.50it/s]\n",
            "Epoch 111. Loss: 1.03204:  97% 15835/16352 [00:12<00:00, 1233.82it/s]\n",
            "Epoch 112. Loss: 1.05301:  97% 15835/16352 [00:12<00:00, 1239.56it/s]\n",
            "Epoch 113. Loss: 1.02717:  97% 15835/16352 [00:12<00:00, 1289.93it/s]\n",
            "Epoch 114. Loss: 1.05734:  97% 15835/16352 [00:12<00:00, 1291.22it/s]\n",
            "Epoch 115. Loss: 1.04929:  97% 15835/16352 [00:12<00:00, 1263.88it/s]\n",
            "Epoch 116. Loss: 0.98847:  97% 15835/16352 [00:12<00:00, 1287.72it/s]\n",
            "Epoch 117. Loss: 1.00114:  97% 15835/16352 [00:12<00:00, 1283.39it/s]\n",
            "Epoch 118. Loss: 1.02657:  97% 15835/16352 [00:12<00:00, 1286.91it/s]\n",
            "Epoch 119. Loss: 1.03503:  97% 15835/16352 [00:12<00:00, 1282.10it/s]\n",
            "Epoch 120. Loss: 1.03289:  97% 15835/16352 [00:12<00:00, 1291.23it/s]\n",
            "Epoch 121. Loss: 1.01016:  97% 15835/16352 [00:12<00:00, 1286.87it/s]\n",
            "Epoch 122. Loss: 1.00864:  97% 15835/16352 [00:12<00:00, 1292.38it/s]\n",
            "Epoch 123. Loss: 1.00439:  97% 15835/16352 [00:12<00:00, 1293.43it/s]\n",
            "Epoch 124. Loss: 0.98738:  97% 15835/16352 [00:12<00:00, 1273.94it/s]\n",
            "Epoch 125. Loss: 1.03895:  97% 15835/16352 [00:12<00:00, 1282.47it/s]\n",
            "Epoch 126. Loss: 1.02853:  97% 15835/16352 [00:12<00:00, 1289.65it/s]\n",
            "Epoch 127. Loss: 1.00937:  97% 15835/16352 [00:12<00:00, 1288.95it/s]\n",
            "Epoch 128. Loss: 1.05438:  97% 15835/16352 [00:12<00:00, 1290.82it/s]\n",
            "Epoch 129. Loss: 1.03992:  97% 15835/16352 [00:12<00:00, 1295.16it/s]\n",
            "Epoch 130. Loss: 1.02713:  97% 15835/16352 [00:12<00:00, 1283.32it/s]\n",
            "Epoch 131. Loss: 1.00167:  97% 15835/16352 [00:12<00:00, 1294.01it/s]\n",
            "Epoch 132. Loss: 1.01986:  97% 15835/16352 [00:12<00:00, 1277.10it/s]\n",
            "Epoch 133. Loss: 0.97520:  97% 15835/16352 [00:12<00:00, 1290.31it/s]\n",
            "Epoch 134. Loss: 0.95542:  97% 15835/16352 [00:12<00:00, 1257.07it/s]\n",
            "Epoch 135. Loss: 1.02524:  97% 15835/16352 [00:12<00:00, 1293.16it/s]\n",
            "Epoch 136. Loss: 0.98065:  97% 15835/16352 [00:12<00:00, 1301.80it/s]\n",
            "Epoch 137. Loss: 1.02444:  97% 15835/16352 [00:12<00:00, 1284.74it/s]\n",
            "Epoch 138. Loss: 1.02138:  97% 15835/16352 [00:12<00:00, 1295.22it/s]\n",
            "Epoch 139. Loss: 0.94103:  97% 15835/16352 [00:12<00:00, 1290.77it/s]\n",
            "Epoch 140. Loss: 0.98229:  97% 15835/16352 [00:12<00:00, 1292.34it/s]\n",
            "Epoch 141. Loss: 1.05722:  97% 15835/16352 [00:12<00:00, 1306.24it/s]\n",
            "Epoch 142. Loss: 0.92616:  97% 15835/16352 [00:12<00:00, 1296.00it/s]\n",
            "Epoch 143. Loss: 1.01872:  97% 15835/16352 [00:12<00:00, 1299.62it/s]\n",
            "Epoch 144. Loss: 0.97903:  97% 15835/16352 [00:12<00:00, 1296.07it/s]\n",
            "Epoch 145. Loss: 1.01088:  97% 15835/16352 [00:12<00:00, 1282.37it/s]\n",
            "Epoch 146. Loss: 1.00160:  97% 15835/16352 [00:12<00:00, 1305.39it/s]\n",
            "Epoch 147. Loss: 0.97839:  97% 15835/16352 [00:12<00:00, 1310.85it/s]\n",
            "Epoch 148. Loss: 0.95960:  97% 15835/16352 [00:12<00:00, 1314.63it/s]\n",
            "Epoch 149. Loss: 0.98701:  97% 15835/16352 [00:12<00:00, 1307.59it/s]\n",
            "Epoch 150. Loss: 0.96484:  97% 15835/16352 [00:12<00:00, 1305.58it/s]\n",
            "Epoch 151. Loss: 0.94439:  97% 15835/16352 [00:12<00:00, 1304.96it/s]\n",
            "Epoch 152. Loss: 0.99626:  97% 15835/16352 [00:12<00:00, 1310.43it/s]\n",
            "Epoch 153. Loss: 1.01924:  97% 15835/16352 [00:12<00:00, 1304.82it/s]\n",
            "Epoch 154. Loss: 1.03390:  97% 15835/16352 [00:12<00:00, 1304.63it/s]\n",
            "Epoch 155. Loss: 0.98866:  97% 15835/16352 [00:12<00:00, 1314.54it/s]\n",
            "Epoch 156. Loss: 0.98085:  97% 15835/16352 [00:11<00:00, 1320.08it/s]\n",
            "Epoch 157. Loss: 0.96162:  97% 15835/16352 [00:12<00:00, 1318.76it/s]\n",
            "Epoch 158. Loss: 0.94405:  97% 15835/16352 [00:12<00:00, 1305.47it/s]\n",
            "Epoch 159. Loss: 0.94288:  97% 15835/16352 [00:12<00:00, 1286.53it/s]\n",
            "Epoch 160. Loss: 0.98829:  97% 15835/16352 [00:12<00:00, 1297.42it/s]\n",
            "Epoch 161. Loss: 0.96458:  97% 15835/16352 [00:11<00:00, 1320.48it/s]\n",
            "Epoch 162. Loss: 0.93112:  97% 15835/16352 [00:12<00:00, 1310.99it/s]\n",
            "Epoch 163. Loss: 0.99523:  97% 15835/16352 [00:12<00:00, 1307.87it/s]\n",
            "Epoch 164. Loss: 0.99330:  97% 15835/16352 [00:12<00:00, 1311.40it/s]\n",
            "Epoch 165. Loss: 0.96547:  97% 15835/16352 [00:12<00:00, 1302.07it/s]\n",
            "Epoch 166. Loss: 0.97633:  97% 15835/16352 [00:12<00:00, 1310.24it/s]\n",
            "Epoch 167. Loss: 0.93893:  97% 15835/16352 [00:12<00:00, 1313.35it/s]\n",
            "Epoch 168. Loss: 0.94083:  97% 15835/16352 [00:12<00:00, 1316.18it/s]\n",
            "Epoch 169. Loss: 0.94480:  97% 15835/16352 [00:12<00:00, 1315.81it/s]\n",
            "Epoch 170. Loss: 1.00378:  97% 15835/16352 [00:12<00:00, 1308.62it/s]\n",
            "Epoch 171. Loss: 0.95930:  97% 15835/16352 [00:12<00:00, 1311.82it/s]\n",
            "Epoch 172. Loss: 0.94743:  97% 15835/16352 [00:12<00:00, 1316.83it/s]\n",
            "Epoch 173. Loss: 0.96674:  97% 15835/16352 [00:11<00:00, 1320.00it/s]\n",
            "Epoch 174. Loss: 0.98982:  97% 15835/16352 [00:12<00:00, 1310.89it/s]\n",
            "Epoch 175. Loss: 0.92608:  97% 15835/16352 [00:12<00:00, 1318.76it/s]\n",
            "Epoch 176. Loss: 0.97184:  97% 15835/16352 [00:12<00:00, 1315.83it/s]\n",
            "Epoch 177. Loss: 0.97765:  97% 15835/16352 [00:12<00:00, 1313.11it/s]\n",
            "Epoch 178. Loss: 0.98649:  97% 15835/16352 [00:12<00:00, 1312.03it/s]\n",
            "Epoch 179. Loss: 0.94170:  97% 15835/16352 [00:12<00:00, 1307.73it/s]\n",
            "Epoch 180. Loss: 0.99881:  97% 15835/16352 [00:12<00:00, 1316.31it/s]\n",
            "Epoch 181. Loss: 0.96714:  97% 15835/16352 [00:12<00:00, 1317.17it/s]\n",
            "Epoch 182. Loss: 1.00203:  97% 15835/16352 [00:11<00:00, 1321.40it/s]\n",
            "Epoch 183. Loss: 0.93500:  97% 15835/16352 [00:12<00:00, 1316.60it/s]\n",
            "Epoch 184. Loss: 0.96289:  97% 15835/16352 [00:12<00:00, 1288.17it/s]\n",
            "Epoch 185. Loss: 0.98050:  97% 15835/16352 [00:12<00:00, 1279.41it/s]\n",
            "Epoch 186. Loss: 0.92310:  97% 15835/16352 [00:12<00:00, 1311.41it/s]\n",
            "Epoch 187. Loss: 0.97654:  97% 15835/16352 [00:12<00:00, 1315.50it/s]\n",
            "Epoch 188. Loss: 0.98280:  97% 15835/16352 [00:12<00:00, 1307.35it/s]\n",
            "Epoch 189. Loss: 0.91202:  97% 15835/16352 [00:12<00:00, 1315.29it/s]\n",
            "Epoch 190. Loss: 0.95616:  97% 15835/16352 [00:12<00:00, 1311.12it/s]\n",
            "Epoch 191. Loss: 0.96622:  97% 15835/16352 [00:12<00:00, 1310.97it/s]\n",
            "Epoch 192. Loss: 0.96884:  97% 15835/16352 [00:12<00:00, 1309.09it/s]\n",
            "Epoch 193. Loss: 0.98151:  97% 15835/16352 [00:12<00:00, 1313.54it/s]\n",
            "Epoch 194. Loss: 0.92191:  97% 15835/16352 [00:12<00:00, 1316.97it/s]\n",
            "Epoch 195. Loss: 0.95248:  97% 15835/16352 [00:11<00:00, 1323.46it/s]\n",
            "Epoch 196. Loss: 0.90269:  97% 15835/16352 [00:12<00:00, 1312.68it/s]\n",
            "Epoch 197. Loss: 0.94703:  97% 15835/16352 [00:12<00:00, 1300.61it/s]\n",
            "Epoch 198. Loss: 0.92382:  97% 15835/16352 [00:12<00:00, 1301.00it/s]\n",
            "Epoch 199. Loss: 0.94598:  97% 15835/16352 [00:12<00:00, 1304.55it/s]\n",
            "Evaluating model...\n",
            "\t - Recall@20 epoch 200: 0.510543\n",
            "\t - MRR@20    epoch 200: 0.207322\n",
            "\n"
          ],
          "name": "stdout"
        }
      ]
    },
    {
      "cell_type": "markdown",
      "metadata": {
        "id": "YdMFiWFK65w1"
      },
      "source": [
        "Indique el resultado del modelo con Dwell Time. \n",
        "\n",
        "Enter the model result with Dwell Time.\n",
        "\n",
        "\n",
        "\n",
        "**COMPLETE**"
      ]
    }
  ]
}